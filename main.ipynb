{
 "cells": [
  {
   "cell_type": "markdown",
   "metadata": {},
   "source": [
    "# Proceso de Visualización de Datos"
   ]
  },
  {
   "cell_type": "markdown",
   "metadata": {},
   "source": [
    "En este notebook se tomará el set de datos obtenido tras el proceso de **`Data Wrangling`** y con el se mostrarán ejemplos de **`Visualización de Datos`** con librerías de Python."
   ]
  },
  {
   "cell_type": "markdown",
   "metadata": {},
   "source": [
    "## Preparación y Herramientas necesarias\n",
    "Lo primero que hay que realizar es la instalación de **openpyxl** (antiguamente conocido como **xlrd**) que es un módulo que **pandas** requiere para leer archivos Excel."
   ]
  },
  {
   "cell_type": "code",
   "execution_count": 1,
   "metadata": {},
   "outputs": [
    {
     "name": "stdout",
     "output_type": "stream",
     "text": [
      "Requirement already satisfied: openpyxl in c:\\users\\felipe\\appdata\\local\\programs\\python\\python38\\lib\\site-packages (3.0.10)\n",
      "Requirement already satisfied: et-xmlfile in c:\\users\\felipe\\appdata\\local\\programs\\python\\python38\\lib\\site-packages (from openpyxl) (1.1.0)\n",
      "Note: you may need to restart the kernel to use updated packages.\n"
     ]
    },
    {
     "name": "stderr",
     "output_type": "stream",
     "text": [
      "WARNING: You are using pip version 19.2.3, however version 22.1.2 is available.\n",
      "You should consider upgrading via the 'python -m pip install --upgrade pip' command.\n"
     ]
    }
   ],
   "source": [
    "%pip install openpyxl"
   ]
  },
  {
   "cell_type": "markdown",
   "metadata": {},
   "source": [
    "A continuación, se procederá a cargar los dos módulos claves para hacer análisis de datos **pandas** y\n",
    " **numpy**.\n"
   ]
  },
  {
   "cell_type": "code",
   "execution_count": 2,
   "metadata": {},
   "outputs": [],
   "source": [
    "import numpy as np  # util para computación científica en Python\n",
    "import pandas as pd # biblioteca que contienen la estructura de datos de uso principal"
   ]
  },
  {
   "cell_type": "markdown",
   "metadata": {},
   "source": [
    "Ahora, se carga el conjunto de datos con los datos del excel usando el método de **pandas** `read_csv`."
   ]
  },
  {
   "cell_type": "code",
   "execution_count": 3,
   "metadata": {},
   "outputs": [
    {
     "name": "stdout",
     "output_type": "stream",
     "text": [
      "Datos leídos y cargados en un dataframe de pandas!\n"
     ]
    }
   ],
   "source": [
    "path = \"Datos_procesados.csv\"\n",
    "df_can = pd.read_csv(path, header = 0)\n",
    "\n",
    "# df_can = pd.read_excel(\n",
    "#     'Datos_procesados.csv',\n",
    "#     sheet_name='datos',\n",
    "#     skiprows=range(20),\n",
    "#     skipfooter=2)\n",
    "\n",
    "print('Datos leídos y cargados en un dataframe de pandas!')"
   ]
  },
  {
   "cell_type": "markdown",
   "metadata": {},
   "source": [
    "Mostramos las primeras 5 filas del conjunto de datos usando la función `head()` para ver que todo está bien."
   ]
  },
  {
   "cell_type": "code",
   "execution_count": 4,
   "metadata": {},
   "outputs": [
    {
     "data": {
      "text/html": [
       "<div>\n",
       "<style scoped>\n",
       "    .dataframe tbody tr th:only-of-type {\n",
       "        vertical-align: middle;\n",
       "    }\n",
       "\n",
       "    .dataframe tbody tr th {\n",
       "        vertical-align: top;\n",
       "    }\n",
       "\n",
       "    .dataframe thead th {\n",
       "        text-align: right;\n",
       "    }\n",
       "</style>\n",
       "<table border=\"1\" class=\"dataframe\">\n",
       "  <thead>\n",
       "    <tr style=\"text-align: right;\">\n",
       "      <th></th>\n",
       "      <th>Unnamed: 0</th>\n",
       "      <th>id</th>\n",
       "      <th>timestamp</th>\n",
       "      <th>pmv</th>\n",
       "      <th>ppd</th>\n",
       "      <th>co2</th>\n",
       "      <th>pm25</th>\n",
       "      <th>pm10</th>\n",
       "      <th>temp</th>\n",
       "      <th>hr</th>\n",
       "      <th>...</th>\n",
       "      <th>temp(K)</th>\n",
       "      <th>pm25-clasificacion</th>\n",
       "      <th>disconformidad-19%</th>\n",
       "      <th>disconformidad-20%</th>\n",
       "      <th>disconformidad-21%</th>\n",
       "      <th>disconformidad-22%</th>\n",
       "      <th>disconformidad-19%.1</th>\n",
       "      <th>disconformidad-20%.1</th>\n",
       "      <th>disconformidad-21%.1</th>\n",
       "      <th>disconformidad-22%.1</th>\n",
       "    </tr>\n",
       "  </thead>\n",
       "  <tbody>\n",
       "    <tr>\n",
       "      <th>0</th>\n",
       "      <td>0</td>\n",
       "      <td>3909814</td>\n",
       "      <td>2022-04-28 15:40:00</td>\n",
       "      <td>0.88</td>\n",
       "      <td>21.0</td>\n",
       "      <td>1.0</td>\n",
       "      <td>0.0</td>\n",
       "      <td>-1.0</td>\n",
       "      <td>27.3</td>\n",
       "      <td>50.0</td>\n",
       "      <td>...</td>\n",
       "      <td>300.45</td>\n",
       "      <td>Bajo</td>\n",
       "      <td>0</td>\n",
       "      <td>0</td>\n",
       "      <td>1</td>\n",
       "      <td>0</td>\n",
       "      <td>0</td>\n",
       "      <td>0</td>\n",
       "      <td>1</td>\n",
       "      <td>0</td>\n",
       "    </tr>\n",
       "    <tr>\n",
       "      <th>1</th>\n",
       "      <td>1</td>\n",
       "      <td>3909794</td>\n",
       "      <td>2022-04-28 15:38:00</td>\n",
       "      <td>0.88</td>\n",
       "      <td>21.0</td>\n",
       "      <td>1.0</td>\n",
       "      <td>0.0</td>\n",
       "      <td>NaN</td>\n",
       "      <td>27.3</td>\n",
       "      <td>49.0</td>\n",
       "      <td>...</td>\n",
       "      <td>300.45</td>\n",
       "      <td>Bajo</td>\n",
       "      <td>0</td>\n",
       "      <td>0</td>\n",
       "      <td>1</td>\n",
       "      <td>0</td>\n",
       "      <td>0</td>\n",
       "      <td>0</td>\n",
       "      <td>1</td>\n",
       "      <td>0</td>\n",
       "    </tr>\n",
       "    <tr>\n",
       "      <th>2</th>\n",
       "      <td>2</td>\n",
       "      <td>3909774</td>\n",
       "      <td>2022-04-28 15:37:00</td>\n",
       "      <td>0.88</td>\n",
       "      <td>21.0</td>\n",
       "      <td>1.0</td>\n",
       "      <td>NaN</td>\n",
       "      <td>4.3</td>\n",
       "      <td>27.3</td>\n",
       "      <td>49.6</td>\n",
       "      <td>...</td>\n",
       "      <td>300.45</td>\n",
       "      <td>NaN</td>\n",
       "      <td>0</td>\n",
       "      <td>0</td>\n",
       "      <td>1</td>\n",
       "      <td>0</td>\n",
       "      <td>0</td>\n",
       "      <td>0</td>\n",
       "      <td>1</td>\n",
       "      <td>0</td>\n",
       "    </tr>\n",
       "    <tr>\n",
       "      <th>3</th>\n",
       "      <td>3</td>\n",
       "      <td>3909754</td>\n",
       "      <td>2022-04-28 15:36:00</td>\n",
       "      <td>0.88</td>\n",
       "      <td>21.0</td>\n",
       "      <td>NaN</td>\n",
       "      <td>2.4</td>\n",
       "      <td>3.0</td>\n",
       "      <td>NaN</td>\n",
       "      <td>49.6</td>\n",
       "      <td>...</td>\n",
       "      <td>NaN</td>\n",
       "      <td>Bajo</td>\n",
       "      <td>0</td>\n",
       "      <td>0</td>\n",
       "      <td>1</td>\n",
       "      <td>0</td>\n",
       "      <td>0</td>\n",
       "      <td>0</td>\n",
       "      <td>1</td>\n",
       "      <td>0</td>\n",
       "    </tr>\n",
       "    <tr>\n",
       "      <th>4</th>\n",
       "      <td>4</td>\n",
       "      <td>3909734</td>\n",
       "      <td>2022-04-28 15:35:00</td>\n",
       "      <td>NaN</td>\n",
       "      <td>NaN</td>\n",
       "      <td>1.0</td>\n",
       "      <td>2.6</td>\n",
       "      <td>3.7</td>\n",
       "      <td>27.3</td>\n",
       "      <td>49.4</td>\n",
       "      <td>...</td>\n",
       "      <td>300.45</td>\n",
       "      <td>Bajo</td>\n",
       "      <td>0</td>\n",
       "      <td>0</td>\n",
       "      <td>0</td>\n",
       "      <td>0</td>\n",
       "      <td>0</td>\n",
       "      <td>0</td>\n",
       "      <td>0</td>\n",
       "      <td>0</td>\n",
       "    </tr>\n",
       "  </tbody>\n",
       "</table>\n",
       "<p>5 rows × 25 columns</p>\n",
       "</div>"
      ],
      "text/plain": [
       "   Unnamed: 0       id            timestamp   pmv   ppd  co2  pm25  pm10  \\\n",
       "0           0  3909814  2022-04-28 15:40:00  0.88  21.0  1.0   0.0  -1.0   \n",
       "1           1  3909794  2022-04-28 15:38:00  0.88  21.0  1.0   0.0   NaN   \n",
       "2           2  3909774  2022-04-28 15:37:00  0.88  21.0  1.0   NaN   4.3   \n",
       "3           3  3909754  2022-04-28 15:36:00  0.88  21.0  NaN   2.4   3.0   \n",
       "4           4  3909734  2022-04-28 15:35:00   NaN   NaN  1.0   2.6   3.7   \n",
       "\n",
       "   temp    hr  ...  temp(K)  pm25-clasificacion  disconformidad-19%  \\\n",
       "0  27.3  50.0  ...   300.45                Bajo                   0   \n",
       "1  27.3  49.0  ...   300.45                Bajo                   0   \n",
       "2  27.3  49.6  ...   300.45                 NaN                   0   \n",
       "3   NaN  49.6  ...      NaN                Bajo                   0   \n",
       "4  27.3  49.4  ...   300.45                Bajo                   0   \n",
       "\n",
       "   disconformidad-20% disconformidad-21%  disconformidad-22%  \\\n",
       "0                   0                  1                   0   \n",
       "1                   0                  1                   0   \n",
       "2                   0                  1                   0   \n",
       "3                   0                  1                   0   \n",
       "4                   0                  0                   0   \n",
       "\n",
       "  disconformidad-19%.1  disconformidad-20%.1  disconformidad-21%.1  \\\n",
       "0                    0                     0                     1   \n",
       "1                    0                     0                     1   \n",
       "2                    0                     0                     1   \n",
       "3                    0                     0                     1   \n",
       "4                    0                     0                     0   \n",
       "\n",
       "   disconformidad-22%.1  \n",
       "0                     0  \n",
       "1                     0  \n",
       "2                     0  \n",
       "3                     0  \n",
       "4                     0  \n",
       "\n",
       "[5 rows x 25 columns]"
      ]
     },
     "execution_count": 4,
     "metadata": {},
     "output_type": "execute_result"
    }
   ],
   "source": [
    "df_can.head()"
   ]
  },
  {
   "cell_type": "markdown",
   "metadata": {},
   "source": [
    "Revisamos la dimesión del conjunto de datos usando la función `shape` para ver que se cargaron todos los datos."
   ]
  },
  {
   "cell_type": "code",
   "execution_count": 5,
   "metadata": {},
   "outputs": [
    {
     "data": {
      "text/plain": [
       "(60, 25)"
      ]
     },
     "execution_count": 5,
     "metadata": {},
     "output_type": "execute_result"
    }
   ],
   "source": [
    "# dimensión del dataframe (rows, columns)\n",
    "df_can.shape"
   ]
  },
  {
   "cell_type": "markdown",
   "metadata": {},
   "source": [
    "#### 1. Agregar columnas\n",
    "Primero vemos que columnas necesitaremos agregar para crear las visualizaciones. Como el conjunto de datos que se está trabajando tiene el tiempo de las mediciones en formato Timestamp, sería util guardar en una columna solamente la Hora en que se registraron las mediciones."
   ]
  },
  {
   "cell_type": "code",
   "execution_count": 6,
   "metadata": {},
   "outputs": [
    {
     "data": {
      "text/html": [
       "<div>\n",
       "<style scoped>\n",
       "    .dataframe tbody tr th:only-of-type {\n",
       "        vertical-align: middle;\n",
       "    }\n",
       "\n",
       "    .dataframe tbody tr th {\n",
       "        vertical-align: top;\n",
       "    }\n",
       "\n",
       "    .dataframe thead th {\n",
       "        text-align: right;\n",
       "    }\n",
       "</style>\n",
       "<table border=\"1\" class=\"dataframe\">\n",
       "  <thead>\n",
       "    <tr style=\"text-align: right;\">\n",
       "      <th></th>\n",
       "      <th>Unnamed: 0</th>\n",
       "      <th>id</th>\n",
       "      <th>timestamp</th>\n",
       "      <th>pmv</th>\n",
       "      <th>ppd</th>\n",
       "      <th>co2</th>\n",
       "      <th>pm25</th>\n",
       "      <th>pm10</th>\n",
       "      <th>temp</th>\n",
       "      <th>hr</th>\n",
       "      <th>...</th>\n",
       "      <th>pm25-clasificacion</th>\n",
       "      <th>disconformidad-19%</th>\n",
       "      <th>disconformidad-20%</th>\n",
       "      <th>disconformidad-21%</th>\n",
       "      <th>disconformidad-22%</th>\n",
       "      <th>disconformidad-19%.1</th>\n",
       "      <th>disconformidad-20%.1</th>\n",
       "      <th>disconformidad-21%.1</th>\n",
       "      <th>disconformidad-22%.1</th>\n",
       "      <th>Hora</th>\n",
       "    </tr>\n",
       "  </thead>\n",
       "  <tbody>\n",
       "    <tr>\n",
       "      <th>0</th>\n",
       "      <td>0</td>\n",
       "      <td>3909814</td>\n",
       "      <td>2022-04-28 15:40:00</td>\n",
       "      <td>0.88</td>\n",
       "      <td>21.0</td>\n",
       "      <td>1.0</td>\n",
       "      <td>0.0</td>\n",
       "      <td>-1.0</td>\n",
       "      <td>27.3</td>\n",
       "      <td>50.0</td>\n",
       "      <td>...</td>\n",
       "      <td>Bajo</td>\n",
       "      <td>0</td>\n",
       "      <td>0</td>\n",
       "      <td>1</td>\n",
       "      <td>0</td>\n",
       "      <td>0</td>\n",
       "      <td>0</td>\n",
       "      <td>1</td>\n",
       "      <td>0</td>\n",
       "      <td>15:40:00</td>\n",
       "    </tr>\n",
       "    <tr>\n",
       "      <th>1</th>\n",
       "      <td>1</td>\n",
       "      <td>3909794</td>\n",
       "      <td>2022-04-28 15:38:00</td>\n",
       "      <td>0.88</td>\n",
       "      <td>21.0</td>\n",
       "      <td>1.0</td>\n",
       "      <td>0.0</td>\n",
       "      <td>NaN</td>\n",
       "      <td>27.3</td>\n",
       "      <td>49.0</td>\n",
       "      <td>...</td>\n",
       "      <td>Bajo</td>\n",
       "      <td>0</td>\n",
       "      <td>0</td>\n",
       "      <td>1</td>\n",
       "      <td>0</td>\n",
       "      <td>0</td>\n",
       "      <td>0</td>\n",
       "      <td>1</td>\n",
       "      <td>0</td>\n",
       "      <td>15:38:00</td>\n",
       "    </tr>\n",
       "    <tr>\n",
       "      <th>2</th>\n",
       "      <td>2</td>\n",
       "      <td>3909774</td>\n",
       "      <td>2022-04-28 15:37:00</td>\n",
       "      <td>0.88</td>\n",
       "      <td>21.0</td>\n",
       "      <td>1.0</td>\n",
       "      <td>NaN</td>\n",
       "      <td>4.3</td>\n",
       "      <td>27.3</td>\n",
       "      <td>49.6</td>\n",
       "      <td>...</td>\n",
       "      <td>NaN</td>\n",
       "      <td>0</td>\n",
       "      <td>0</td>\n",
       "      <td>1</td>\n",
       "      <td>0</td>\n",
       "      <td>0</td>\n",
       "      <td>0</td>\n",
       "      <td>1</td>\n",
       "      <td>0</td>\n",
       "      <td>15:37:00</td>\n",
       "    </tr>\n",
       "    <tr>\n",
       "      <th>3</th>\n",
       "      <td>3</td>\n",
       "      <td>3909754</td>\n",
       "      <td>2022-04-28 15:36:00</td>\n",
       "      <td>0.88</td>\n",
       "      <td>21.0</td>\n",
       "      <td>NaN</td>\n",
       "      <td>2.4</td>\n",
       "      <td>3.0</td>\n",
       "      <td>NaN</td>\n",
       "      <td>49.6</td>\n",
       "      <td>...</td>\n",
       "      <td>Bajo</td>\n",
       "      <td>0</td>\n",
       "      <td>0</td>\n",
       "      <td>1</td>\n",
       "      <td>0</td>\n",
       "      <td>0</td>\n",
       "      <td>0</td>\n",
       "      <td>1</td>\n",
       "      <td>0</td>\n",
       "      <td>15:36:00</td>\n",
       "    </tr>\n",
       "    <tr>\n",
       "      <th>4</th>\n",
       "      <td>4</td>\n",
       "      <td>3909734</td>\n",
       "      <td>2022-04-28 15:35:00</td>\n",
       "      <td>NaN</td>\n",
       "      <td>NaN</td>\n",
       "      <td>1.0</td>\n",
       "      <td>2.6</td>\n",
       "      <td>3.7</td>\n",
       "      <td>27.3</td>\n",
       "      <td>49.4</td>\n",
       "      <td>...</td>\n",
       "      <td>Bajo</td>\n",
       "      <td>0</td>\n",
       "      <td>0</td>\n",
       "      <td>0</td>\n",
       "      <td>0</td>\n",
       "      <td>0</td>\n",
       "      <td>0</td>\n",
       "      <td>0</td>\n",
       "      <td>0</td>\n",
       "      <td>15:35:00</td>\n",
       "    </tr>\n",
       "  </tbody>\n",
       "</table>\n",
       "<p>5 rows × 26 columns</p>\n",
       "</div>"
      ],
      "text/plain": [
       "   Unnamed: 0       id            timestamp   pmv   ppd  co2  pm25  pm10  \\\n",
       "0           0  3909814  2022-04-28 15:40:00  0.88  21.0  1.0   0.0  -1.0   \n",
       "1           1  3909794  2022-04-28 15:38:00  0.88  21.0  1.0   0.0   NaN   \n",
       "2           2  3909774  2022-04-28 15:37:00  0.88  21.0  1.0   NaN   4.3   \n",
       "3           3  3909754  2022-04-28 15:36:00  0.88  21.0  NaN   2.4   3.0   \n",
       "4           4  3909734  2022-04-28 15:35:00   NaN   NaN  1.0   2.6   3.7   \n",
       "\n",
       "   temp    hr  ...  pm25-clasificacion  disconformidad-19%  \\\n",
       "0  27.3  50.0  ...                Bajo                   0   \n",
       "1  27.3  49.0  ...                Bajo                   0   \n",
       "2  27.3  49.6  ...                 NaN                   0   \n",
       "3   NaN  49.6  ...                Bajo                   0   \n",
       "4  27.3  49.4  ...                Bajo                   0   \n",
       "\n",
       "   disconformidad-20%  disconformidad-21% disconformidad-22%  \\\n",
       "0                   0                   1                  0   \n",
       "1                   0                   1                  0   \n",
       "2                   0                   1                  0   \n",
       "3                   0                   1                  0   \n",
       "4                   0                   0                  0   \n",
       "\n",
       "   disconformidad-19%.1 disconformidad-20%.1  disconformidad-21%.1  \\\n",
       "0                     0                    0                     1   \n",
       "1                     0                    0                     1   \n",
       "2                     0                    0                     1   \n",
       "3                     0                    0                     1   \n",
       "4                     0                    0                     0   \n",
       "\n",
       "   disconformidad-22%.1      Hora  \n",
       "0                     0  15:40:00  \n",
       "1                     0  15:38:00  \n",
       "2                     0  15:37:00  \n",
       "3                     0  15:36:00  \n",
       "4                     0  15:35:00  \n",
       "\n",
       "[5 rows x 26 columns]"
      ]
     },
     "execution_count": 6,
     "metadata": {},
     "output_type": "execute_result"
    }
   ],
   "source": [
    "df_can[\"Hora\"] = pd.to_datetime(df_can[\"timestamp\"], format=\"%Y-%m-%d %H:%M:%S\").dt.strftime('%H:%M:%S')\n",
    "df_can.head()"
   ]
  },
  {
   "cell_type": "markdown",
   "metadata": {},
   "source": [
    "#### 2. Quitar columnas innecesarias\n",
    "Se debe limpiar el conjunto de datos para eliminar las columnas que no son informativas para la visualización; en este caso quitaremos las columnas id, timestamp, idnodo, 20.836363636363636, Unnamed: 0."
   ]
  },
  {
   "cell_type": "code",
   "execution_count": 7,
   "metadata": {},
   "outputs": [
    {
     "data": {
      "text/html": [
       "<div>\n",
       "<style scoped>\n",
       "    .dataframe tbody tr th:only-of-type {\n",
       "        vertical-align: middle;\n",
       "    }\n",
       "\n",
       "    .dataframe tbody tr th {\n",
       "        vertical-align: top;\n",
       "    }\n",
       "\n",
       "    .dataframe thead th {\n",
       "        text-align: right;\n",
       "    }\n",
       "</style>\n",
       "<table border=\"1\" class=\"dataframe\">\n",
       "  <thead>\n",
       "    <tr style=\"text-align: right;\">\n",
       "      <th></th>\n",
       "      <th>pmv</th>\n",
       "      <th>ppd</th>\n",
       "      <th>co2</th>\n",
       "      <th>pm25</th>\n",
       "      <th>pm10</th>\n",
       "      <th>temp</th>\n",
       "      <th>hr</th>\n",
       "      <th>voc</th>\n",
       "      <th>co</th>\n",
       "      <th>no2</th>\n",
       "      <th>...</th>\n",
       "      <th>pm25-clasificacion</th>\n",
       "      <th>disconformidad-19%</th>\n",
       "      <th>disconformidad-20%</th>\n",
       "      <th>disconformidad-21%</th>\n",
       "      <th>disconformidad-22%</th>\n",
       "      <th>disconformidad-19%.1</th>\n",
       "      <th>disconformidad-20%.1</th>\n",
       "      <th>disconformidad-21%.1</th>\n",
       "      <th>disconformidad-22%.1</th>\n",
       "      <th>Hora</th>\n",
       "    </tr>\n",
       "  </thead>\n",
       "  <tbody>\n",
       "    <tr>\n",
       "      <th>0</th>\n",
       "      <td>0.88</td>\n",
       "      <td>21.0</td>\n",
       "      <td>1.0</td>\n",
       "      <td>0.0</td>\n",
       "      <td>-1.0</td>\n",
       "      <td>27.3</td>\n",
       "      <td>50.0</td>\n",
       "      <td>0.906977</td>\n",
       "      <td>0.027368</td>\n",
       "      <td>0.533981</td>\n",
       "      <td>...</td>\n",
       "      <td>Bajo</td>\n",
       "      <td>0</td>\n",
       "      <td>0</td>\n",
       "      <td>1</td>\n",
       "      <td>0</td>\n",
       "      <td>0</td>\n",
       "      <td>0</td>\n",
       "      <td>1</td>\n",
       "      <td>0</td>\n",
       "      <td>15:40:00</td>\n",
       "    </tr>\n",
       "    <tr>\n",
       "      <th>1</th>\n",
       "      <td>0.88</td>\n",
       "      <td>21.0</td>\n",
       "      <td>1.0</td>\n",
       "      <td>0.0</td>\n",
       "      <td>NaN</td>\n",
       "      <td>27.3</td>\n",
       "      <td>49.0</td>\n",
       "      <td>0.930233</td>\n",
       "      <td>0.028421</td>\n",
       "      <td>0.553398</td>\n",
       "      <td>...</td>\n",
       "      <td>Bajo</td>\n",
       "      <td>0</td>\n",
       "      <td>0</td>\n",
       "      <td>1</td>\n",
       "      <td>0</td>\n",
       "      <td>0</td>\n",
       "      <td>0</td>\n",
       "      <td>1</td>\n",
       "      <td>0</td>\n",
       "      <td>15:38:00</td>\n",
       "    </tr>\n",
       "    <tr>\n",
       "      <th>2</th>\n",
       "      <td>0.88</td>\n",
       "      <td>21.0</td>\n",
       "      <td>1.0</td>\n",
       "      <td>NaN</td>\n",
       "      <td>4.3</td>\n",
       "      <td>27.3</td>\n",
       "      <td>49.6</td>\n",
       "      <td>0.930233</td>\n",
       "      <td>0.027544</td>\n",
       "      <td>0.543689</td>\n",
       "      <td>...</td>\n",
       "      <td>NaN</td>\n",
       "      <td>0</td>\n",
       "      <td>0</td>\n",
       "      <td>1</td>\n",
       "      <td>0</td>\n",
       "      <td>0</td>\n",
       "      <td>0</td>\n",
       "      <td>1</td>\n",
       "      <td>0</td>\n",
       "      <td>15:37:00</td>\n",
       "    </tr>\n",
       "    <tr>\n",
       "      <th>3</th>\n",
       "      <td>0.88</td>\n",
       "      <td>21.0</td>\n",
       "      <td>NaN</td>\n",
       "      <td>2.4</td>\n",
       "      <td>3.0</td>\n",
       "      <td>NaN</td>\n",
       "      <td>49.6</td>\n",
       "      <td>0.930233</td>\n",
       "      <td>0.027544</td>\n",
       "      <td>0.533981</td>\n",
       "      <td>...</td>\n",
       "      <td>Bajo</td>\n",
       "      <td>0</td>\n",
       "      <td>0</td>\n",
       "      <td>1</td>\n",
       "      <td>0</td>\n",
       "      <td>0</td>\n",
       "      <td>0</td>\n",
       "      <td>1</td>\n",
       "      <td>0</td>\n",
       "      <td>15:36:00</td>\n",
       "    </tr>\n",
       "    <tr>\n",
       "      <th>4</th>\n",
       "      <td>NaN</td>\n",
       "      <td>NaN</td>\n",
       "      <td>1.0</td>\n",
       "      <td>2.6</td>\n",
       "      <td>3.7</td>\n",
       "      <td>27.3</td>\n",
       "      <td>49.4</td>\n",
       "      <td>0.930233</td>\n",
       "      <td>0.027368</td>\n",
       "      <td>0.543689</td>\n",
       "      <td>...</td>\n",
       "      <td>Bajo</td>\n",
       "      <td>0</td>\n",
       "      <td>0</td>\n",
       "      <td>0</td>\n",
       "      <td>0</td>\n",
       "      <td>0</td>\n",
       "      <td>0</td>\n",
       "      <td>0</td>\n",
       "      <td>0</td>\n",
       "      <td>15:35:00</td>\n",
       "    </tr>\n",
       "  </tbody>\n",
       "</table>\n",
       "<p>5 rows × 21 columns</p>\n",
       "</div>"
      ],
      "text/plain": [
       "    pmv   ppd  co2  pm25  pm10  temp    hr       voc        co       no2  ...  \\\n",
       "0  0.88  21.0  1.0   0.0  -1.0  27.3  50.0  0.906977  0.027368  0.533981  ...   \n",
       "1  0.88  21.0  1.0   0.0   NaN  27.3  49.0  0.930233  0.028421  0.553398  ...   \n",
       "2  0.88  21.0  1.0   NaN   4.3  27.3  49.6  0.930233  0.027544  0.543689  ...   \n",
       "3  0.88  21.0  NaN   2.4   3.0   NaN  49.6  0.930233  0.027544  0.533981  ...   \n",
       "4   NaN   NaN  1.0   2.6   3.7  27.3  49.4  0.930233  0.027368  0.543689  ...   \n",
       "\n",
       "   pm25-clasificacion disconformidad-19%  disconformidad-20%  \\\n",
       "0                Bajo                  0                   0   \n",
       "1                Bajo                  0                   0   \n",
       "2                 NaN                  0                   0   \n",
       "3                Bajo                  0                   0   \n",
       "4                Bajo                  0                   0   \n",
       "\n",
       "   disconformidad-21%  disconformidad-22%  disconformidad-19%.1  \\\n",
       "0                   1                   0                     0   \n",
       "1                   1                   0                     0   \n",
       "2                   1                   0                     0   \n",
       "3                   1                   0                     0   \n",
       "4                   0                   0                     0   \n",
       "\n",
       "   disconformidad-20%.1  disconformidad-21%.1  disconformidad-22%.1      Hora  \n",
       "0                     0                     1                     0  15:40:00  \n",
       "1                     0                     1                     0  15:38:00  \n",
       "2                     0                     1                     0  15:37:00  \n",
       "3                     0                     1                     0  15:36:00  \n",
       "4                     0                     0                     0  15:35:00  \n",
       "\n",
       "[5 rows x 21 columns]"
      ]
     },
     "execution_count": 7,
     "metadata": {},
     "output_type": "execute_result"
    }
   ],
   "source": [
    "df_can.drop(['id', 'timestamp', 'idnodo', 'Unnamed: 0','temp(K)'], axis=1, inplace=True)\n",
    "\n",
    "# mostrar los primeros cinco elementos para ver cómo se cambió el dataframe\n",
    "df_can.head()"
   ]
  },
  {
   "cell_type": "markdown",
   "metadata": {},
   "source": [
    "#### 3. Renombrar Columnas\n",
    "A continuación debemos cambiar el nombre de algunas de las columnas para que tengan más sentido y facilitar el análisis."
   ]
  },
  {
   "cell_type": "code",
   "execution_count": 8,
   "metadata": {},
   "outputs": [
    {
     "data": {
      "text/html": [
       "<div>\n",
       "<style scoped>\n",
       "    .dataframe tbody tr th:only-of-type {\n",
       "        vertical-align: middle;\n",
       "    }\n",
       "\n",
       "    .dataframe tbody tr th {\n",
       "        vertical-align: top;\n",
       "    }\n",
       "\n",
       "    .dataframe thead th {\n",
       "        text-align: right;\n",
       "    }\n",
       "</style>\n",
       "<table border=\"1\" class=\"dataframe\">\n",
       "  <thead>\n",
       "    <tr style=\"text-align: right;\">\n",
       "      <th></th>\n",
       "      <th>pmv</th>\n",
       "      <th>ppd</th>\n",
       "      <th>co2</th>\n",
       "      <th>pm25</th>\n",
       "      <th>pm10</th>\n",
       "      <th>Temperatura</th>\n",
       "      <th>hr</th>\n",
       "      <th>voc</th>\n",
       "      <th>co</th>\n",
       "      <th>no2</th>\n",
       "      <th>...</th>\n",
       "      <th>pm25-clasificacion</th>\n",
       "      <th>disconformidad-19%</th>\n",
       "      <th>disconformidad-20%</th>\n",
       "      <th>disconformidad-21%</th>\n",
       "      <th>disconformidad-22%</th>\n",
       "      <th>disconformidad-19%.1</th>\n",
       "      <th>disconformidad-20%.1</th>\n",
       "      <th>disconformidad-21%.1</th>\n",
       "      <th>disconformidad-22%.1</th>\n",
       "      <th>Hora</th>\n",
       "    </tr>\n",
       "  </thead>\n",
       "  <tbody>\n",
       "    <tr>\n",
       "      <th>0</th>\n",
       "      <td>0.88</td>\n",
       "      <td>21.0</td>\n",
       "      <td>1.0</td>\n",
       "      <td>0.0</td>\n",
       "      <td>-1.0</td>\n",
       "      <td>27.3</td>\n",
       "      <td>50.0</td>\n",
       "      <td>0.906977</td>\n",
       "      <td>0.027368</td>\n",
       "      <td>0.533981</td>\n",
       "      <td>...</td>\n",
       "      <td>Bajo</td>\n",
       "      <td>0</td>\n",
       "      <td>0</td>\n",
       "      <td>1</td>\n",
       "      <td>0</td>\n",
       "      <td>0</td>\n",
       "      <td>0</td>\n",
       "      <td>1</td>\n",
       "      <td>0</td>\n",
       "      <td>15:40:00</td>\n",
       "    </tr>\n",
       "    <tr>\n",
       "      <th>1</th>\n",
       "      <td>0.88</td>\n",
       "      <td>21.0</td>\n",
       "      <td>1.0</td>\n",
       "      <td>0.0</td>\n",
       "      <td>NaN</td>\n",
       "      <td>27.3</td>\n",
       "      <td>49.0</td>\n",
       "      <td>0.930233</td>\n",
       "      <td>0.028421</td>\n",
       "      <td>0.553398</td>\n",
       "      <td>...</td>\n",
       "      <td>Bajo</td>\n",
       "      <td>0</td>\n",
       "      <td>0</td>\n",
       "      <td>1</td>\n",
       "      <td>0</td>\n",
       "      <td>0</td>\n",
       "      <td>0</td>\n",
       "      <td>1</td>\n",
       "      <td>0</td>\n",
       "      <td>15:38:00</td>\n",
       "    </tr>\n",
       "    <tr>\n",
       "      <th>2</th>\n",
       "      <td>0.88</td>\n",
       "      <td>21.0</td>\n",
       "      <td>1.0</td>\n",
       "      <td>NaN</td>\n",
       "      <td>4.3</td>\n",
       "      <td>27.3</td>\n",
       "      <td>49.6</td>\n",
       "      <td>0.930233</td>\n",
       "      <td>0.027544</td>\n",
       "      <td>0.543689</td>\n",
       "      <td>...</td>\n",
       "      <td>NaN</td>\n",
       "      <td>0</td>\n",
       "      <td>0</td>\n",
       "      <td>1</td>\n",
       "      <td>0</td>\n",
       "      <td>0</td>\n",
       "      <td>0</td>\n",
       "      <td>1</td>\n",
       "      <td>0</td>\n",
       "      <td>15:37:00</td>\n",
       "    </tr>\n",
       "    <tr>\n",
       "      <th>3</th>\n",
       "      <td>0.88</td>\n",
       "      <td>21.0</td>\n",
       "      <td>NaN</td>\n",
       "      <td>2.4</td>\n",
       "      <td>3.0</td>\n",
       "      <td>NaN</td>\n",
       "      <td>49.6</td>\n",
       "      <td>0.930233</td>\n",
       "      <td>0.027544</td>\n",
       "      <td>0.533981</td>\n",
       "      <td>...</td>\n",
       "      <td>Bajo</td>\n",
       "      <td>0</td>\n",
       "      <td>0</td>\n",
       "      <td>1</td>\n",
       "      <td>0</td>\n",
       "      <td>0</td>\n",
       "      <td>0</td>\n",
       "      <td>1</td>\n",
       "      <td>0</td>\n",
       "      <td>15:36:00</td>\n",
       "    </tr>\n",
       "    <tr>\n",
       "      <th>4</th>\n",
       "      <td>NaN</td>\n",
       "      <td>NaN</td>\n",
       "      <td>1.0</td>\n",
       "      <td>2.6</td>\n",
       "      <td>3.7</td>\n",
       "      <td>27.3</td>\n",
       "      <td>49.4</td>\n",
       "      <td>0.930233</td>\n",
       "      <td>0.027368</td>\n",
       "      <td>0.543689</td>\n",
       "      <td>...</td>\n",
       "      <td>Bajo</td>\n",
       "      <td>0</td>\n",
       "      <td>0</td>\n",
       "      <td>0</td>\n",
       "      <td>0</td>\n",
       "      <td>0</td>\n",
       "      <td>0</td>\n",
       "      <td>0</td>\n",
       "      <td>0</td>\n",
       "      <td>15:35:00</td>\n",
       "    </tr>\n",
       "  </tbody>\n",
       "</table>\n",
       "<p>5 rows × 21 columns</p>\n",
       "</div>"
      ],
      "text/plain": [
       "    pmv   ppd  co2  pm25  pm10  Temperatura    hr       voc        co  \\\n",
       "0  0.88  21.0  1.0   0.0  -1.0         27.3  50.0  0.906977  0.027368   \n",
       "1  0.88  21.0  1.0   0.0   NaN         27.3  49.0  0.930233  0.028421   \n",
       "2  0.88  21.0  1.0   NaN   4.3         27.3  49.6  0.930233  0.027544   \n",
       "3  0.88  21.0  NaN   2.4   3.0          NaN  49.6  0.930233  0.027544   \n",
       "4   NaN   NaN  1.0   2.6   3.7         27.3  49.4  0.930233  0.027368   \n",
       "\n",
       "        no2  ...  pm25-clasificacion disconformidad-19%  disconformidad-20%  \\\n",
       "0  0.533981  ...                Bajo                  0                   0   \n",
       "1  0.553398  ...                Bajo                  0                   0   \n",
       "2  0.543689  ...                 NaN                  0                   0   \n",
       "3  0.533981  ...                Bajo                  0                   0   \n",
       "4  0.543689  ...                Bajo                  0                   0   \n",
       "\n",
       "   disconformidad-21%  disconformidad-22%  disconformidad-19%.1  \\\n",
       "0                   1                   0                     0   \n",
       "1                   1                   0                     0   \n",
       "2                   1                   0                     0   \n",
       "3                   1                   0                     0   \n",
       "4                   0                   0                     0   \n",
       "\n",
       "   disconformidad-20%.1  disconformidad-21%.1  disconformidad-22%.1      Hora  \n",
       "0                     0                     1                     0  15:40:00  \n",
       "1                     0                     1                     0  15:38:00  \n",
       "2                     0                     1                     0  15:37:00  \n",
       "3                     0                     1                     0  15:36:00  \n",
       "4                     0                     0                     0  15:35:00  \n",
       "\n",
       "[5 rows x 21 columns]"
      ]
     },
     "execution_count": 8,
     "metadata": {},
     "output_type": "execute_result"
    }
   ],
   "source": [
    "df_can.rename(columns={'temp':'Temperatura'}, inplace=True)\n",
    "\n",
    "# mostrar los primeros cinco elementos para ver cómo se cambió el dataframe\n",
    "df_can.head()"
   ]
  },
  {
   "cell_type": "markdown",
   "metadata": {},
   "source": [
    "#### 4. Etiquetas en mismo tipo\n",
    "Para mantener la coherencia, asegúrese de que todas las etiquetas de las columnas sean de tipo cadena de caracteres o string."
   ]
  },
  {
   "cell_type": "code",
   "execution_count": 9,
   "metadata": {},
   "outputs": [
    {
     "data": {
      "text/plain": [
       "True"
      ]
     },
     "execution_count": 9,
     "metadata": {},
     "output_type": "execute_result"
    }
   ],
   "source": [
    "# examinar los tipos de etiquetas de las columnas\n",
    "\n",
    "all(isinstance(column, str) for column in df_can.columns)"
   ]
  },
  {
   "cell_type": "markdown",
   "metadata": {},
   "source": [
    "## Visualizando Datos usando Matplotlib\n",
    "Una vez preparado nuestro set de datos podemos proceder a visualizar nuestros datos con la herramienta **Matplotlib**, a continuación revisaremos los distintos tipos de gráficos que podemos utilizar para vizualizar nuestros datos."
   ]
  },
  {
   "cell_type": "markdown",
   "metadata": {},
   "source": [
    "#### Importar Matplotlib\n",
    "Importar la biblioteca `matplotlib`."
   ]
  },
  {
   "cell_type": "code",
   "execution_count": 10,
   "metadata": {},
   "outputs": [
    {
     "name": "stdout",
     "output_type": "stream",
     "text": [
      "Matplotlib version:  3.5.2\n"
     ]
    }
   ],
   "source": [
    "# Esta línea de codigo es para realizar el despliegue de figuras en línea o dentro de Jupyter Notebook\n",
    "%matplotlib inline\n",
    "\n",
    "import matplotlib as mpl\n",
    "import matplotlib.pyplot as plt\n",
    "\n",
    "# Opcional: Aplica un estilo similar a ggplot\n",
    "mpl.style.use('ggplot')  \n",
    "\n",
    "# verificar la versión de Matplotlib\n",
    "print('Matplotlib version: ', mpl.__version__)"
   ]
  },
  {
   "cell_type": "markdown",
   "metadata": {
    "tags": []
   },
   "source": [
    "### Gráficos de Línea\n",
    "**-** Un gráfico de líneas es un tipo de gráficos el cual despliega la información como una serie de puntos de datos conectados por un segmento de línea recta.\n",
    "\n",
    "Para nuestro set de datos podemos utilizar este tipo de gráfico para responder a la pregunta:\n",
    "**¿Cómo es el comportamiento de los distintos contaminantes en el tiempo registrado?**"
   ]
  },
  {
   "cell_type": "markdown",
   "metadata": {},
   "source": [
    "El primer paso para responder a nuestra pregunta es extraer los datos relacionados a los contaminantes (`co`, `co2`, `no2`, `c2h5ch`, `voc`) y la `Hora` de cada registro."
   ]
  },
  {
   "cell_type": "code",
   "execution_count": 11,
   "metadata": {},
   "outputs": [
    {
     "name": "stderr",
     "output_type": "stream",
     "text": [
      "C:\\Users\\Felipe\\AppData\\Local\\Temp\\ipykernel_29320\\3566992271.py:1: FutureWarning: Passing a set as an indexer is deprecated and will raise in a future version. Use a list instead.\n",
      "  df_linea= df_can.loc[: , {\"Hora\",\"co\",\"co2\",\"no2\",\"c2h5ch\",\"voc\"}]\n"
     ]
    },
    {
     "data": {
      "text/html": [
       "<div>\n",
       "<style scoped>\n",
       "    .dataframe tbody tr th:only-of-type {\n",
       "        vertical-align: middle;\n",
       "    }\n",
       "\n",
       "    .dataframe tbody tr th {\n",
       "        vertical-align: top;\n",
       "    }\n",
       "\n",
       "    .dataframe thead th {\n",
       "        text-align: right;\n",
       "    }\n",
       "</style>\n",
       "<table border=\"1\" class=\"dataframe\">\n",
       "  <thead>\n",
       "    <tr style=\"text-align: right;\">\n",
       "      <th></th>\n",
       "      <th>co</th>\n",
       "      <th>c2h5ch</th>\n",
       "      <th>co2</th>\n",
       "      <th>voc</th>\n",
       "      <th>no2</th>\n",
       "    </tr>\n",
       "    <tr>\n",
       "      <th>Hora</th>\n",
       "      <th></th>\n",
       "      <th></th>\n",
       "      <th></th>\n",
       "      <th></th>\n",
       "      <th></th>\n",
       "    </tr>\n",
       "  </thead>\n",
       "  <tbody>\n",
       "    <tr>\n",
       "      <th>15:40:00</th>\n",
       "      <td>0.027368</td>\n",
       "      <td>0.990385</td>\n",
       "      <td>1.0</td>\n",
       "      <td>0.906977</td>\n",
       "      <td>0.533981</td>\n",
       "    </tr>\n",
       "    <tr>\n",
       "      <th>15:38:00</th>\n",
       "      <td>0.028421</td>\n",
       "      <td>1.000000</td>\n",
       "      <td>1.0</td>\n",
       "      <td>0.930233</td>\n",
       "      <td>0.553398</td>\n",
       "    </tr>\n",
       "    <tr>\n",
       "      <th>15:37:00</th>\n",
       "      <td>0.027544</td>\n",
       "      <td>1.000000</td>\n",
       "      <td>1.0</td>\n",
       "      <td>0.930233</td>\n",
       "      <td>0.543689</td>\n",
       "    </tr>\n",
       "    <tr>\n",
       "      <th>15:36:00</th>\n",
       "      <td>0.027544</td>\n",
       "      <td>1.000000</td>\n",
       "      <td>NaN</td>\n",
       "      <td>0.930233</td>\n",
       "      <td>0.533981</td>\n",
       "    </tr>\n",
       "    <tr>\n",
       "      <th>15:35:00</th>\n",
       "      <td>0.027368</td>\n",
       "      <td>1.000000</td>\n",
       "      <td>1.0</td>\n",
       "      <td>0.930233</td>\n",
       "      <td>0.543689</td>\n",
       "    </tr>\n",
       "  </tbody>\n",
       "</table>\n",
       "</div>"
      ],
      "text/plain": [
       "                co    c2h5ch  co2       voc       no2\n",
       "Hora                                                 \n",
       "15:40:00  0.027368  0.990385  1.0  0.906977  0.533981\n",
       "15:38:00  0.028421  1.000000  1.0  0.930233  0.553398\n",
       "15:37:00  0.027544  1.000000  1.0  0.930233  0.543689\n",
       "15:36:00  0.027544  1.000000  NaN  0.930233  0.533981\n",
       "15:35:00  0.027368  1.000000  1.0  0.930233  0.543689"
      ]
     },
     "execution_count": 11,
     "metadata": {},
     "output_type": "execute_result"
    }
   ],
   "source": [
    "df_linea= df_can.loc[: , {\"Hora\",\"co\",\"co2\",\"no2\",\"c2h5ch\",\"voc\"}]\n",
    "#Se asigna la Hora como index para el nuevo data set\n",
    "df_linea=df_linea.set_index('Hora')\n",
    "df_linea.head()"
   ]
  },
  {
   "cell_type": "markdown",
   "metadata": {},
   "source": [
    "A continuación, se trazará un gráfico de líneas con los datos obtenidos en `df_linea`."
   ]
  },
  {
   "cell_type": "code",
   "execution_count": 12,
   "metadata": {},
   "outputs": [
    {
     "data": {
      "image/png": "[encoded data removed]",
      "text/plain": [
       "<Figure size 1296x432 with 1 Axes>"
      ]
     },
     "metadata": {},
     "output_type": "display_data"
    }
   ],
   "source": [
    "df_linea.plot(kind='line',\n",
    "             stacked=False,\n",
    "             figsize=(18, 6))  # pasa un tamaño en la tupla (x, y)\n",
    "\n",
    "plt.title('Contaminantes')\n",
    "plt.ylabel('Particulas por Millón')\n",
    "\n",
    "plt.show()"
   ]
  },
  {
   "cell_type": "markdown",
   "metadata": {},
   "source": [
    "Con ayuda del gráfico obtenido podemos responder a la pregunta planteada. Vemos que los distintos contaminantes tienen un comportamiento similar, pero cuando ocurre una perturbación (Por ejemplo, que alguien haya abierto una puerta o una ventana del lugar donde se encuentra este sensor) y disminuyen los niveles de `CO2`, los niveles de `CO` y `NO2` aumentan en conjunto."
   ]
  },
  {
   "cell_type": "markdown",
   "metadata": {
    "tags": []
   },
   "source": [
    "### Gráficos de Dispersión\n",
    "**-** Un gráfico de dispersión es útil para comparar variables entre sí.\n",
    "\n",
    "Para nuestro set de datos podemos utilizar este tipo de gráfico para responder a la pregunta:\n",
    "**¿Cúal es la relación entre la Temperatura y la Humedad relativa registrada por los sensores?**"
   ]
  },
  {
   "cell_type": "markdown",
   "metadata": {},
   "source": [
    "El primer paso para responder a nuestra pregunta es extraer los datos relacionados a la `Temperatura` registrada y la media de la `Humedad Relativa` registrada para cada temperatura."
   ]
  },
  {
   "cell_type": "code",
   "execution_count": 13,
   "metadata": {},
   "outputs": [
    {
     "data": {
      "text/html": [
       "<div>\n",
       "<style scoped>\n",
       "    .dataframe tbody tr th:only-of-type {\n",
       "        vertical-align: middle;\n",
       "    }\n",
       "\n",
       "    .dataframe tbody tr th {\n",
       "        vertical-align: top;\n",
       "    }\n",
       "\n",
       "    .dataframe thead th {\n",
       "        text-align: right;\n",
       "    }\n",
       "</style>\n",
       "<table border=\"1\" class=\"dataframe\">\n",
       "  <thead>\n",
       "    <tr style=\"text-align: right;\">\n",
       "      <th></th>\n",
       "      <th>Temperatura</th>\n",
       "      <th>Humedad_Relativa</th>\n",
       "    </tr>\n",
       "  </thead>\n",
       "  <tbody>\n",
       "    <tr>\n",
       "      <th>0</th>\n",
       "      <td>27.1</td>\n",
       "      <td>50.657143</td>\n",
       "    </tr>\n",
       "    <tr>\n",
       "      <th>1</th>\n",
       "      <td>27.2</td>\n",
       "      <td>50.717647</td>\n",
       "    </tr>\n",
       "    <tr>\n",
       "      <th>2</th>\n",
       "      <td>27.3</td>\n",
       "      <td>50.021429</td>\n",
       "    </tr>\n",
       "    <tr>\n",
       "      <th>3</th>\n",
       "      <td>49.7</td>\n",
       "      <td>43.000000</td>\n",
       "    </tr>\n",
       "  </tbody>\n",
       "</table>\n",
       "</div>"
      ],
      "text/plain": [
       "   Temperatura  Humedad_Relativa\n",
       "0         27.1         50.657143\n",
       "1         27.2         50.717647\n",
       "2         27.3         50.021429\n",
       "3         49.7         43.000000"
      ]
     },
     "execution_count": 13,
     "metadata": {},
     "output_type": "execute_result"
    }
   ],
   "source": [
    "# usar el método sum() para obtener la media de Humedad relativa por cada Temp\n",
    "df_Temp = pd.DataFrame(df_can.groupby(\"Temperatura\")[[\"hr\"]].mean())\n",
    "# restablecer el índice para volver a colocarlo como una columna en el dataframe df_total\n",
    "df_Temp.reset_index(inplace = True)\n",
    "# renombrar columnas\n",
    "df_Temp.columns = ['Temperatura', 'Humedad_Relativa']\n",
    "\n",
    "df_Temp"
   ]
  },
  {
   "cell_type": "markdown",
   "metadata": {},
   "source": [
    "Como el diagrama de dispersión no conecta los puntos de datos entre sí, podemos trazar una línea de mejor y usarla para entender la relación entre las 2 variables."
   ]
  },
  {
   "cell_type": "code",
   "execution_count": 14,
   "metadata": {},
   "outputs": [],
   "source": [
    "x = df_Temp['Temperatura']      # año en el eje x\n",
    "y = df_Temp['Humedad_Relativa']     # total en el eje y\n",
    "ajuste = np.polyfit(x, y, deg=1)"
   ]
  },
  {
   "cell_type": "markdown",
   "metadata": {},
   "source": [
    "A continuación, se trazará un gráfico de dispersión con los datos obtenidos en `df_Temp`."
   ]
  },
  {
   "cell_type": "code",
   "execution_count": 15,
   "metadata": {},
   "outputs": [
    {
     "data": {
      "image/png": "[encoded data removed]",
      "text/plain": [
       "<Figure size 720x432 with 1 Axes>"
      ]
     },
     "metadata": {},
     "output_type": "display_data"
    }
   ],
   "source": [
    "df_Temp.plot(kind='scatter', x='Temperatura', y='Humedad_Relativa', figsize=(10, 6), color='darkblue')\n",
    "\n",
    "plt.title('Temperatura vs Humedad Relativa')\n",
    "plt.ylabel('Humedad Relativa %')\n",
    "plt.xlabel('Temperatura °C')\n",
    "\n",
    "# trazar la línea del mejor ajuste\n",
    "plt.plot(x, ajuste[0] * x + ajuste[1], color='red') # recordar que x son los años\n",
    "plt.annotate('y={0:.0f} x + {1:.0f}'.format(ajuste[0], ajuste[1]), xy=(2000, 150000))\n",
    "\n",
    "plt.show()\n"
   ]
  },
  {
   "cell_type": "markdown",
   "metadata": {},
   "source": [
    "Con ayuda del gráfico obtenido podemos responder a la pregunta planteada. Vemos que la `Temperatura` tiene una relación inversamente proporcional a la `Humedad Relativa` del lugar, osea a medida que la Temperatura sube, la Humedad relativa disminuye."
   ]
  },
  {
   "cell_type": "markdown",
   "metadata": {
    "tags": []
   },
   "source": [
    "### Gráfico de Áreas\n",
    "**-** Un gráfico de área es útil para apilar comportamiento de varias variables.\n",
    "\n",
    "Para nuestro set de datos podemos utilizar este tipo de gráfico para responder a la pregunta:\n",
    "**¿Cúal es el comportamiento de la Temperatura a lo largo del Tiempo medido?**"
   ]
  },
  {
   "cell_type": "markdown",
   "metadata": {},
   "source": [
    "El primer paso para responder a nuestra pregunta es extraer los datos relacionados a la `Temperatura` y la `Hora` de cada medición."
   ]
  },
  {
   "cell_type": "code",
   "execution_count": 16,
   "metadata": {},
   "outputs": [
    {
     "name": "stderr",
     "output_type": "stream",
     "text": [
      "C:\\Users\\Felipe\\AppData\\Local\\Temp\\ipykernel_29320\\1795036447.py:1: FutureWarning: Passing a set as an indexer is deprecated and will raise in a future version. Use a list instead.\n",
      "  df_historico= df_can.loc[: , {\"Hora\",\"Temperatura\"}]\n"
     ]
    },
    {
     "data": {
      "text/html": [
       "<div>\n",
       "<style scoped>\n",
       "    .dataframe tbody tr th:only-of-type {\n",
       "        vertical-align: middle;\n",
       "    }\n",
       "\n",
       "    .dataframe tbody tr th {\n",
       "        vertical-align: top;\n",
       "    }\n",
       "\n",
       "    .dataframe thead th {\n",
       "        text-align: right;\n",
       "    }\n",
       "</style>\n",
       "<table border=\"1\" class=\"dataframe\">\n",
       "  <thead>\n",
       "    <tr style=\"text-align: right;\">\n",
       "      <th></th>\n",
       "      <th>Temperatura</th>\n",
       "    </tr>\n",
       "    <tr>\n",
       "      <th>Hora</th>\n",
       "      <th></th>\n",
       "    </tr>\n",
       "  </thead>\n",
       "  <tbody>\n",
       "    <tr>\n",
       "      <th>15:40:00</th>\n",
       "      <td>27.3</td>\n",
       "    </tr>\n",
       "    <tr>\n",
       "      <th>15:38:00</th>\n",
       "      <td>27.3</td>\n",
       "    </tr>\n",
       "    <tr>\n",
       "      <th>15:37:00</th>\n",
       "      <td>27.3</td>\n",
       "    </tr>\n",
       "    <tr>\n",
       "      <th>15:36:00</th>\n",
       "      <td>NaN</td>\n",
       "    </tr>\n",
       "    <tr>\n",
       "      <th>15:35:00</th>\n",
       "      <td>27.3</td>\n",
       "    </tr>\n",
       "  </tbody>\n",
       "</table>\n",
       "</div>"
      ],
      "text/plain": [
       "          Temperatura\n",
       "Hora                 \n",
       "15:40:00         27.3\n",
       "15:38:00         27.3\n",
       "15:37:00         27.3\n",
       "15:36:00          NaN\n",
       "15:35:00         27.3"
      ]
     },
     "execution_count": 16,
     "metadata": {},
     "output_type": "execute_result"
    }
   ],
   "source": [
    "df_historico= df_can.loc[: , {\"Hora\",\"Temperatura\"}]\n",
    "#Se asigna la Hora como index para el nuevo data set\n",
    "df_historico = df_historico.set_index('Hora')\n",
    "df_historico.head()"
   ]
  },
  {
   "cell_type": "markdown",
   "metadata": {},
   "source": [
    "A continuación, se trazará un gráfico de área con los datos recopilados."
   ]
  },
  {
   "cell_type": "code",
   "execution_count": 17,
   "metadata": {},
   "outputs": [
    {
     "data": {
      "image/png": "[encoded data removed]",
      "text/plain": [
       "<Figure size 1080x360 with 1 Axes>"
      ]
     },
     "metadata": {},
     "output_type": "display_data"
    }
   ],
   "source": [
    "\n",
    "df_historico.plot(kind='area',\n",
    "             stacked=False,\n",
    "             figsize=(15, 5))  # pasa un tamaño en la tupla (x, y)\n",
    "\n",
    "plt.title('Historico Temperatura')\n",
    "plt.ylabel('Temperatura °C')\n",
    "\n",
    "\n",
    "plt.show()"
   ]
  },
  {
   "cell_type": "markdown",
   "metadata": {},
   "source": [
    "Con ayuda del gráfico obtenido podemos ver el comportamiento historico de la `Temperatura` a lo largo del tiempo medido por los sensores."
   ]
  },
  {
   "cell_type": "markdown",
   "metadata": {},
   "source": [
    "### Gráfico de Barras\n",
    "\n",
    "Los gráficos de barra nos ayudan a visualizar de mejor forma la magnitud o tamaño de una caracteristica o variable.\n",
    "\n",
    "Para este caso se ocupará para graficar la cantidad de minutos donde el Material Particulado Fino 2.5, se encuentra en los distintos estados o grupos, en este caso: {Bajo, Mediano, Alto}."
   ]
  },
  {
   "cell_type": "code",
   "execution_count": 18,
   "metadata": {},
   "outputs": [
    {
     "data": {
      "text/plain": [
       "Text(0.5, 1.0, 'Comportamiento de PM 2.5 dentro de una hora')"
      ]
     },
     "execution_count": 18,
     "metadata": {},
     "output_type": "execute_result"
    },
    {
     "data": {
      "image/png": "[encoded data removed]",
      "text/plain": [
       "<Figure size 432x288 with 1 Axes>"
      ]
     },
     "metadata": {},
     "output_type": "display_data"
    }
   ],
   "source": [
    "# Ver cantidad de datos\n",
    "df_pm25 = df_can[\"pm25-clasificacion\"].value_counts()\n",
    "df_pm25.head()\n",
    "\n",
    "# Definir nombres de los grupos\n",
    "nombres_de_grupo = ['Bajo', 'Mediano', 'Alto']\n",
    "\n",
    "plt.bar(nombres_de_grupo, df_can[\"pm25-clasificacion\"].value_counts())\n",
    "\n",
    "# Setear las etiquetas para los ejes x e y más un título\n",
    "plt.xlabel(\"PM 2.5\")\n",
    "plt.ylabel(\"Tiempo [minutos]\")\n",
    "plt.title(\"Comportamiento de PM 2.5 dentro de una hora\")\n"
   ]
  },
  {
   "cell_type": "markdown",
   "metadata": {},
   "source": [
    "### Gráfico de Circulo\n",
    "\n",
    "Este tipo de gráfico nos ayuda a representar proporciones numéricas al dividir un círculo, tal como cotidianamente se hace al partir una torta.\n",
    "\n",
    "Para este caso, tomando nuevamente los datos del Material Particulado 2.5, podemos notar la proporción del tiempo en los cuales el PM2.5 se posicionó en cada uno de los distintos estados, para un total de tiempo de 1 hora."
   ]
  },
  {
   "cell_type": "code",
   "execution_count": 19,
   "metadata": {},
   "outputs": [
    {
     "data": {
      "image/png": "[encoded data removed]",
      "text/plain": [
       "<Figure size 432x288 with 1 Axes>"
      ]
     },
     "metadata": {},
     "output_type": "display_data"
    }
   ],
   "source": [
    "#Se definen los colores para representar los diferentes niveles.\n",
    "colores = [\"#60D394\",\"#FFD97D\",\"#FF9B85\"]\n",
    "\n",
    "#Se realiza el gráfico de círculo.\n",
    "plt.title('Proporción de los niveles de PM2.5')\n",
    "plt.pie(df_pm25, labels=nombres_de_grupo, autopct=\"%0.1f %%\", colors=colores)\n",
    "plt.axis(\"equal\")\n",
    "plt.legend(labels=df_pm25.index, loc='upper left') \n",
    "plt.show()"
   ]
  },
  {
   "cell_type": "markdown",
   "metadata": {},
   "source": [
    "Podemos notar en este caso, que para el nivel Bajo, en el gráfico de barras donde se indica los minutos por cada nivel, tenemos que está por sobre los 30 minutos, lo cual se traduce en el gráfico de círculo, que un 62% del intervalo de tiempo de 1 hora, se mantuvo el nivel Bajo de Material Particulado Fino."
   ]
  }
 ],
 "metadata": {
  "interpreter": {
   "hash": "3800cc3e84d75565c35a70d049b50130c40c89fb2290199c0422067e13f562cc"
  },
  "kernelspec": {
   "display_name": "Python 3 (ipykernel)",
   "language": "python",
   "name": "python3"
  },
  "language_info": {
   "codemirror_mode": {
    "name": "ipython",
    "version": 3
   },
   "file_extension": ".py",
   "mimetype": "text/x-python",
   "name": "python",
   "nbconvert_exporter": "python",
   "pygments_lexer": "ipython3",
   "version": "3.8.0"
  }
 },
 "nbformat": 4,
 "nbformat_minor": 4
}
