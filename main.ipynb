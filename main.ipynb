{
 "cells": [
  {
   "cell_type": "markdown",
   "metadata": {},
   "source": [
    "Lo primero que hay que realizar es la instalación de **openpyxl** (antiguamente conocido como **xlrd**) que es un módulo que **pandas** requiere para leer archivos Excel."
   ]
  },
  {
   "cell_type": "code",
   "execution_count": 117,
   "metadata": {},
   "outputs": [
    {
     "name": "stdout",
     "output_type": "stream",
     "text": [
      "Requirement already satisfied: openpyxl in c:\\users\\niko_\\appdata\\local\\programs\\python\\python310\\lib\\site-packages (3.0.10)\n",
      "Requirement already satisfied: et-xmlfile in c:\\users\\niko_\\appdata\\local\\programs\\python\\python310\\lib\\site-packages (from openpyxl) (1.1.0)\n",
      "Note: you may need to restart the kernel to use updated packages.\n"
     ]
    },
    {
     "name": "stderr",
     "output_type": "stream",
     "text": [
      "WARNING: You are using pip version 22.0.4; however, version 22.1.1 is available.\n",
      "You should consider upgrading via the 'c:\\Users\\niko_\\AppData\\Local\\Programs\\Python\\Python310\\python.exe -m pip install --upgrade pip' command.\n"
     ]
    }
   ],
   "source": [
    "%pip install openpyxl"
   ]
  },
  {
   "cell_type": "markdown",
   "metadata": {},
   "source": [
    "A continuación, se procederá a cargar los dos módulos claves para hacer análisis de datos **pandas** y\n",
    " **numpy**.\n"
   ]
  },
  {
   "cell_type": "code",
   "execution_count": 118,
   "metadata": {},
   "outputs": [],
   "source": [
    "import numpy as np  # util para computación científica en Python\n",
    "import pandas as pd # biblioteca que contienen la estructura de datos de uso principal"
   ]
  },
  {
   "cell_type": "markdown",
   "metadata": {},
   "source": [
    "Ahora, se carga el conjunto de datos con los datos del excel usando el método de **pandas** `read_csv`."
   ]
  },
  {
   "cell_type": "code",
   "execution_count": 119,
   "metadata": {},
   "outputs": [
    {
     "name": "stdout",
     "output_type": "stream",
     "text": [
      "Datos leídos y cargados en un dataframe de pandas!\n"
     ]
    }
   ],
   "source": [
    "path = \"Datos_procesados.csv\"\n",
    "df_can = pd.read_csv(path, header = 0)\n",
    "\n",
    "# df_can = pd.read_excel(\n",
    "#     'Datos_procesados.csv',\n",
    "#     sheet_name='datos',\n",
    "#     skiprows=range(20),\n",
    "#     skipfooter=2)\n",
    "\n",
    "print('Datos leídos y cargados en un dataframe de pandas!')"
   ]
  },
  {
   "cell_type": "markdown",
   "metadata": {},
   "source": [
    "Mostrar las primeras 5 filas del conjunto de datos usando la función `head()`."
   ]
  },
  {
   "cell_type": "code",
   "execution_count": 120,
   "metadata": {},
   "outputs": [
    {
     "data": {
      "text/html": [
       "<div>\n",
       "<style scoped>\n",
       "    .dataframe tbody tr th:only-of-type {\n",
       "        vertical-align: middle;\n",
       "    }\n",
       "\n",
       "    .dataframe tbody tr th {\n",
       "        vertical-align: top;\n",
       "    }\n",
       "\n",
       "    .dataframe thead th {\n",
       "        text-align: right;\n",
       "    }\n",
       "</style>\n",
       "<table border=\"1\" class=\"dataframe\">\n",
       "  <thead>\n",
       "    <tr style=\"text-align: right;\">\n",
       "      <th></th>\n",
       "      <th>Unnamed: 0</th>\n",
       "      <th>id</th>\n",
       "      <th>timestamp</th>\n",
       "      <th>pmv</th>\n",
       "      <th>ppd</th>\n",
       "      <th>co2</th>\n",
       "      <th>pm25</th>\n",
       "      <th>pm10</th>\n",
       "      <th>hr</th>\n",
       "      <th>voc</th>\n",
       "      <th>...</th>\n",
       "      <th>no2</th>\n",
       "      <th>c2h5ch</th>\n",
       "      <th>idnodo</th>\n",
       "      <th>temp(K)</th>\n",
       "      <th>pm25-clasificacion</th>\n",
       "      <th>disconformidad-19%</th>\n",
       "      <th>disconformidad-20%</th>\n",
       "      <th>20.836363636363636</th>\n",
       "      <th>disconformidad-21%</th>\n",
       "      <th>disconformidad-22%</th>\n",
       "    </tr>\n",
       "  </thead>\n",
       "  <tbody>\n",
       "    <tr>\n",
       "      <th>0</th>\n",
       "      <td>0</td>\n",
       "      <td>3909814</td>\n",
       "      <td>2022-04-28 15:40:00</td>\n",
       "      <td>0.880000</td>\n",
       "      <td>21.000000</td>\n",
       "      <td>1.00000</td>\n",
       "      <td>0.000</td>\n",
       "      <td>-1.000000</td>\n",
       "      <td>50.0</td>\n",
       "      <td>0.906977</td>\n",
       "      <td>...</td>\n",
       "      <td>0.533981</td>\n",
       "      <td>0.990385</td>\n",
       "      <td>fdba37</td>\n",
       "      <td>300.450000</td>\n",
       "      <td>Bajo</td>\n",
       "      <td>0</td>\n",
       "      <td>0</td>\n",
       "      <td>0</td>\n",
       "      <td>1</td>\n",
       "      <td>0</td>\n",
       "    </tr>\n",
       "    <tr>\n",
       "      <th>1</th>\n",
       "      <td>1</td>\n",
       "      <td>3909794</td>\n",
       "      <td>2022-04-28 15:38:00</td>\n",
       "      <td>0.880000</td>\n",
       "      <td>21.000000</td>\n",
       "      <td>1.00000</td>\n",
       "      <td>0.000</td>\n",
       "      <td>6.891071</td>\n",
       "      <td>49.0</td>\n",
       "      <td>0.930233</td>\n",
       "      <td>...</td>\n",
       "      <td>0.553398</td>\n",
       "      <td>1.000000</td>\n",
       "      <td>fdba37</td>\n",
       "      <td>300.450000</td>\n",
       "      <td>Bajo</td>\n",
       "      <td>0</td>\n",
       "      <td>0</td>\n",
       "      <td>0</td>\n",
       "      <td>1</td>\n",
       "      <td>0</td>\n",
       "    </tr>\n",
       "    <tr>\n",
       "      <th>2</th>\n",
       "      <td>2</td>\n",
       "      <td>3909774</td>\n",
       "      <td>2022-04-28 15:37:00</td>\n",
       "      <td>0.880000</td>\n",
       "      <td>21.000000</td>\n",
       "      <td>1.00000</td>\n",
       "      <td>3.406</td>\n",
       "      <td>4.300000</td>\n",
       "      <td>49.6</td>\n",
       "      <td>0.930233</td>\n",
       "      <td>...</td>\n",
       "      <td>0.543689</td>\n",
       "      <td>1.000000</td>\n",
       "      <td>fdba37</td>\n",
       "      <td>300.450000</td>\n",
       "      <td>Mediano</td>\n",
       "      <td>0</td>\n",
       "      <td>0</td>\n",
       "      <td>0</td>\n",
       "      <td>1</td>\n",
       "      <td>0</td>\n",
       "    </tr>\n",
       "    <tr>\n",
       "      <th>3</th>\n",
       "      <td>3</td>\n",
       "      <td>3909754</td>\n",
       "      <td>2022-04-28 15:36:00</td>\n",
       "      <td>0.880000</td>\n",
       "      <td>21.000000</td>\n",
       "      <td>0.98257</td>\n",
       "      <td>2.400</td>\n",
       "      <td>3.000000</td>\n",
       "      <td>49.6</td>\n",
       "      <td>0.930233</td>\n",
       "      <td>...</td>\n",
       "      <td>0.533981</td>\n",
       "      <td>1.000000</td>\n",
       "      <td>fdba37</td>\n",
       "      <td>300.792857</td>\n",
       "      <td>Bajo</td>\n",
       "      <td>0</td>\n",
       "      <td>0</td>\n",
       "      <td>0</td>\n",
       "      <td>1</td>\n",
       "      <td>0</td>\n",
       "    </tr>\n",
       "    <tr>\n",
       "      <th>4</th>\n",
       "      <td>4</td>\n",
       "      <td>3909734</td>\n",
       "      <td>2022-04-28 15:35:00</td>\n",
       "      <td>0.866792</td>\n",
       "      <td>20.836364</td>\n",
       "      <td>1.00000</td>\n",
       "      <td>2.600</td>\n",
       "      <td>3.700000</td>\n",
       "      <td>49.4</td>\n",
       "      <td>0.930233</td>\n",
       "      <td>...</td>\n",
       "      <td>0.543689</td>\n",
       "      <td>1.000000</td>\n",
       "      <td>fdba37</td>\n",
       "      <td>300.450000</td>\n",
       "      <td>Bajo</td>\n",
       "      <td>0</td>\n",
       "      <td>0</td>\n",
       "      <td>1</td>\n",
       "      <td>0</td>\n",
       "      <td>0</td>\n",
       "    </tr>\n",
       "  </tbody>\n",
       "</table>\n",
       "<p>5 rows × 21 columns</p>\n",
       "</div>"
      ],
      "text/plain": [
       "   Unnamed: 0       id            timestamp       pmv        ppd      co2  \\\n",
       "0           0  3909814  2022-04-28 15:40:00  0.880000  21.000000  1.00000   \n",
       "1           1  3909794  2022-04-28 15:38:00  0.880000  21.000000  1.00000   \n",
       "2           2  3909774  2022-04-28 15:37:00  0.880000  21.000000  1.00000   \n",
       "3           3  3909754  2022-04-28 15:36:00  0.880000  21.000000  0.98257   \n",
       "4           4  3909734  2022-04-28 15:35:00  0.866792  20.836364  1.00000   \n",
       "\n",
       "    pm25      pm10    hr       voc  ...       no2    c2h5ch  idnodo  \\\n",
       "0  0.000 -1.000000  50.0  0.906977  ...  0.533981  0.990385  fdba37   \n",
       "1  0.000  6.891071  49.0  0.930233  ...  0.553398  1.000000  fdba37   \n",
       "2  3.406  4.300000  49.6  0.930233  ...  0.543689  1.000000  fdba37   \n",
       "3  2.400  3.000000  49.6  0.930233  ...  0.533981  1.000000  fdba37   \n",
       "4  2.600  3.700000  49.4  0.930233  ...  0.543689  1.000000  fdba37   \n",
       "\n",
       "      temp(K)  pm25-clasificacion disconformidad-19%  disconformidad-20%  \\\n",
       "0  300.450000                Bajo                  0                   0   \n",
       "1  300.450000                Bajo                  0                   0   \n",
       "2  300.450000             Mediano                  0                   0   \n",
       "3  300.792857                Bajo                  0                   0   \n",
       "4  300.450000                Bajo                  0                   0   \n",
       "\n",
       "   20.836363636363636  disconformidad-21%  disconformidad-22%  \n",
       "0                   0                   1                   0  \n",
       "1                   0                   1                   0  \n",
       "2                   0                   1                   0  \n",
       "3                   0                   1                   0  \n",
       "4                   1                   0                   0  \n",
       "\n",
       "[5 rows x 21 columns]"
      ]
     },
     "execution_count": 120,
     "metadata": {},
     "output_type": "execute_result"
    }
   ],
   "source": [
    "df_can.head()"
   ]
  },
  {
   "cell_type": "code",
   "execution_count": 121,
   "metadata": {},
   "outputs": [
    {
     "data": {
      "text/plain": [
       "(60, 21)"
      ]
     },
     "execution_count": 121,
     "metadata": {},
     "output_type": "execute_result"
    }
   ],
   "source": [
    "# dimensión del dataframe (rows, columns)\n",
    "df_can.shape"
   ]
  },
  {
   "cell_type": "markdown",
   "metadata": {},
   "source": [
    "#### 1. Limpiar el conjunto de datos para eliminar las columnas que no son informativas para la visualización (id, timestamp, idnodo, 20.836363636363636, Unnamed: 0)."
   ]
  },
  {
   "cell_type": "code",
   "execution_count": 122,
   "metadata": {},
   "outputs": [
    {
     "data": {
      "text/html": [
       "<div>\n",
       "<style scoped>\n",
       "    .dataframe tbody tr th:only-of-type {\n",
       "        vertical-align: middle;\n",
       "    }\n",
       "\n",
       "    .dataframe tbody tr th {\n",
       "        vertical-align: top;\n",
       "    }\n",
       "\n",
       "    .dataframe thead th {\n",
       "        text-align: right;\n",
       "    }\n",
       "</style>\n",
       "<table border=\"1\" class=\"dataframe\">\n",
       "  <thead>\n",
       "    <tr style=\"text-align: right;\">\n",
       "      <th></th>\n",
       "      <th>pmv</th>\n",
       "      <th>ppd</th>\n",
       "      <th>co2</th>\n",
       "      <th>pm25</th>\n",
       "      <th>pm10</th>\n",
       "      <th>hr</th>\n",
       "      <th>voc</th>\n",
       "      <th>co</th>\n",
       "      <th>no2</th>\n",
       "      <th>c2h5ch</th>\n",
       "      <th>temp(K)</th>\n",
       "      <th>pm25-clasificacion</th>\n",
       "      <th>disconformidad-19%</th>\n",
       "      <th>disconformidad-20%</th>\n",
       "      <th>disconformidad-21%</th>\n",
       "      <th>disconformidad-22%</th>\n",
       "    </tr>\n",
       "  </thead>\n",
       "  <tbody>\n",
       "    <tr>\n",
       "      <th>0</th>\n",
       "      <td>0.880000</td>\n",
       "      <td>21.000000</td>\n",
       "      <td>1.00000</td>\n",
       "      <td>0.000</td>\n",
       "      <td>-1.000000</td>\n",
       "      <td>50.0</td>\n",
       "      <td>0.906977</td>\n",
       "      <td>0.027368</td>\n",
       "      <td>0.533981</td>\n",
       "      <td>0.990385</td>\n",
       "      <td>300.450000</td>\n",
       "      <td>Bajo</td>\n",
       "      <td>0</td>\n",
       "      <td>0</td>\n",
       "      <td>1</td>\n",
       "      <td>0</td>\n",
       "    </tr>\n",
       "    <tr>\n",
       "      <th>1</th>\n",
       "      <td>0.880000</td>\n",
       "      <td>21.000000</td>\n",
       "      <td>1.00000</td>\n",
       "      <td>0.000</td>\n",
       "      <td>6.891071</td>\n",
       "      <td>49.0</td>\n",
       "      <td>0.930233</td>\n",
       "      <td>0.028421</td>\n",
       "      <td>0.553398</td>\n",
       "      <td>1.000000</td>\n",
       "      <td>300.450000</td>\n",
       "      <td>Bajo</td>\n",
       "      <td>0</td>\n",
       "      <td>0</td>\n",
       "      <td>1</td>\n",
       "      <td>0</td>\n",
       "    </tr>\n",
       "    <tr>\n",
       "      <th>2</th>\n",
       "      <td>0.880000</td>\n",
       "      <td>21.000000</td>\n",
       "      <td>1.00000</td>\n",
       "      <td>3.406</td>\n",
       "      <td>4.300000</td>\n",
       "      <td>49.6</td>\n",
       "      <td>0.930233</td>\n",
       "      <td>0.027544</td>\n",
       "      <td>0.543689</td>\n",
       "      <td>1.000000</td>\n",
       "      <td>300.450000</td>\n",
       "      <td>Mediano</td>\n",
       "      <td>0</td>\n",
       "      <td>0</td>\n",
       "      <td>1</td>\n",
       "      <td>0</td>\n",
       "    </tr>\n",
       "    <tr>\n",
       "      <th>3</th>\n",
       "      <td>0.880000</td>\n",
       "      <td>21.000000</td>\n",
       "      <td>0.98257</td>\n",
       "      <td>2.400</td>\n",
       "      <td>3.000000</td>\n",
       "      <td>49.6</td>\n",
       "      <td>0.930233</td>\n",
       "      <td>0.027544</td>\n",
       "      <td>0.533981</td>\n",
       "      <td>1.000000</td>\n",
       "      <td>300.792857</td>\n",
       "      <td>Bajo</td>\n",
       "      <td>0</td>\n",
       "      <td>0</td>\n",
       "      <td>1</td>\n",
       "      <td>0</td>\n",
       "    </tr>\n",
       "    <tr>\n",
       "      <th>4</th>\n",
       "      <td>0.866792</td>\n",
       "      <td>20.836364</td>\n",
       "      <td>1.00000</td>\n",
       "      <td>2.600</td>\n",
       "      <td>3.700000</td>\n",
       "      <td>49.4</td>\n",
       "      <td>0.930233</td>\n",
       "      <td>0.027368</td>\n",
       "      <td>0.543689</td>\n",
       "      <td>1.000000</td>\n",
       "      <td>300.450000</td>\n",
       "      <td>Bajo</td>\n",
       "      <td>0</td>\n",
       "      <td>0</td>\n",
       "      <td>0</td>\n",
       "      <td>0</td>\n",
       "    </tr>\n",
       "  </tbody>\n",
       "</table>\n",
       "</div>"
      ],
      "text/plain": [
       "        pmv        ppd      co2   pm25      pm10    hr       voc        co  \\\n",
       "0  0.880000  21.000000  1.00000  0.000 -1.000000  50.0  0.906977  0.027368   \n",
       "1  0.880000  21.000000  1.00000  0.000  6.891071  49.0  0.930233  0.028421   \n",
       "2  0.880000  21.000000  1.00000  3.406  4.300000  49.6  0.930233  0.027544   \n",
       "3  0.880000  21.000000  0.98257  2.400  3.000000  49.6  0.930233  0.027544   \n",
       "4  0.866792  20.836364  1.00000  2.600  3.700000  49.4  0.930233  0.027368   \n",
       "\n",
       "        no2    c2h5ch     temp(K) pm25-clasificacion  disconformidad-19%  \\\n",
       "0  0.533981  0.990385  300.450000               Bajo                   0   \n",
       "1  0.553398  1.000000  300.450000               Bajo                   0   \n",
       "2  0.543689  1.000000  300.450000            Mediano                   0   \n",
       "3  0.533981  1.000000  300.792857               Bajo                   0   \n",
       "4  0.543689  1.000000  300.450000               Bajo                   0   \n",
       "\n",
       "   disconformidad-20%  disconformidad-21%  disconformidad-22%  \n",
       "0                   0                   1                   0  \n",
       "1                   0                   1                   0  \n",
       "2                   0                   1                   0  \n",
       "3                   0                   1                   0  \n",
       "4                   0                   0                   0  "
      ]
     },
     "execution_count": 122,
     "metadata": {},
     "output_type": "execute_result"
    }
   ],
   "source": [
    "df_can.drop(['id', 'timestamp', 'idnodo', '20.836363636363636', 'Unnamed: 0'], axis=1, inplace=True)\n",
    "\n",
    "# mostrar los primeros cinco elementos para ver cómo se cambió el dataframe\n",
    "df_can.head()"
   ]
  },
  {
   "cell_type": "markdown",
   "metadata": {},
   "source": [
    "#### 2. Cambiar el nombre de algunas de las columnas para que tengan sentido."
   ]
  },
  {
   "cell_type": "code",
   "execution_count": 123,
   "metadata": {},
   "outputs": [
    {
     "data": {
      "text/html": [
       "<div>\n",
       "<style scoped>\n",
       "    .dataframe tbody tr th:only-of-type {\n",
       "        vertical-align: middle;\n",
       "    }\n",
       "\n",
       "    .dataframe tbody tr th {\n",
       "        vertical-align: top;\n",
       "    }\n",
       "\n",
       "    .dataframe thead th {\n",
       "        text-align: right;\n",
       "    }\n",
       "</style>\n",
       "<table border=\"1\" class=\"dataframe\">\n",
       "  <thead>\n",
       "    <tr style=\"text-align: right;\">\n",
       "      <th></th>\n",
       "      <th>pmv</th>\n",
       "      <th>ppd</th>\n",
       "      <th>co2</th>\n",
       "      <th>pm25</th>\n",
       "      <th>pm10</th>\n",
       "      <th>hr</th>\n",
       "      <th>voc</th>\n",
       "      <th>co</th>\n",
       "      <th>no2</th>\n",
       "      <th>c2h5ch</th>\n",
       "      <th>temp(K)</th>\n",
       "      <th>pm25-clasificacion</th>\n",
       "      <th>disconformidad-19%</th>\n",
       "      <th>disconformidad-20%</th>\n",
       "      <th>disconformidad-21%</th>\n",
       "      <th>disconformidad-22%</th>\n",
       "    </tr>\n",
       "  </thead>\n",
       "  <tbody>\n",
       "    <tr>\n",
       "      <th>0</th>\n",
       "      <td>0.880000</td>\n",
       "      <td>21.000000</td>\n",
       "      <td>1.00000</td>\n",
       "      <td>0.000</td>\n",
       "      <td>-1.000000</td>\n",
       "      <td>50.0</td>\n",
       "      <td>0.906977</td>\n",
       "      <td>0.027368</td>\n",
       "      <td>0.533981</td>\n",
       "      <td>0.990385</td>\n",
       "      <td>300.450000</td>\n",
       "      <td>Bajo</td>\n",
       "      <td>0</td>\n",
       "      <td>0</td>\n",
       "      <td>1</td>\n",
       "      <td>0</td>\n",
       "    </tr>\n",
       "    <tr>\n",
       "      <th>1</th>\n",
       "      <td>0.880000</td>\n",
       "      <td>21.000000</td>\n",
       "      <td>1.00000</td>\n",
       "      <td>0.000</td>\n",
       "      <td>6.891071</td>\n",
       "      <td>49.0</td>\n",
       "      <td>0.930233</td>\n",
       "      <td>0.028421</td>\n",
       "      <td>0.553398</td>\n",
       "      <td>1.000000</td>\n",
       "      <td>300.450000</td>\n",
       "      <td>Bajo</td>\n",
       "      <td>0</td>\n",
       "      <td>0</td>\n",
       "      <td>1</td>\n",
       "      <td>0</td>\n",
       "    </tr>\n",
       "    <tr>\n",
       "      <th>2</th>\n",
       "      <td>0.880000</td>\n",
       "      <td>21.000000</td>\n",
       "      <td>1.00000</td>\n",
       "      <td>3.406</td>\n",
       "      <td>4.300000</td>\n",
       "      <td>49.6</td>\n",
       "      <td>0.930233</td>\n",
       "      <td>0.027544</td>\n",
       "      <td>0.543689</td>\n",
       "      <td>1.000000</td>\n",
       "      <td>300.450000</td>\n",
       "      <td>Mediano</td>\n",
       "      <td>0</td>\n",
       "      <td>0</td>\n",
       "      <td>1</td>\n",
       "      <td>0</td>\n",
       "    </tr>\n",
       "    <tr>\n",
       "      <th>3</th>\n",
       "      <td>0.880000</td>\n",
       "      <td>21.000000</td>\n",
       "      <td>0.98257</td>\n",
       "      <td>2.400</td>\n",
       "      <td>3.000000</td>\n",
       "      <td>49.6</td>\n",
       "      <td>0.930233</td>\n",
       "      <td>0.027544</td>\n",
       "      <td>0.533981</td>\n",
       "      <td>1.000000</td>\n",
       "      <td>300.792857</td>\n",
       "      <td>Bajo</td>\n",
       "      <td>0</td>\n",
       "      <td>0</td>\n",
       "      <td>1</td>\n",
       "      <td>0</td>\n",
       "    </tr>\n",
       "    <tr>\n",
       "      <th>4</th>\n",
       "      <td>0.866792</td>\n",
       "      <td>20.836364</td>\n",
       "      <td>1.00000</td>\n",
       "      <td>2.600</td>\n",
       "      <td>3.700000</td>\n",
       "      <td>49.4</td>\n",
       "      <td>0.930233</td>\n",
       "      <td>0.027368</td>\n",
       "      <td>0.543689</td>\n",
       "      <td>1.000000</td>\n",
       "      <td>300.450000</td>\n",
       "      <td>Bajo</td>\n",
       "      <td>0</td>\n",
       "      <td>0</td>\n",
       "      <td>0</td>\n",
       "      <td>0</td>\n",
       "    </tr>\n",
       "  </tbody>\n",
       "</table>\n",
       "</div>"
      ],
      "text/plain": [
       "        pmv        ppd      co2   pm25      pm10    hr       voc        co  \\\n",
       "0  0.880000  21.000000  1.00000  0.000 -1.000000  50.0  0.906977  0.027368   \n",
       "1  0.880000  21.000000  1.00000  0.000  6.891071  49.0  0.930233  0.028421   \n",
       "2  0.880000  21.000000  1.00000  3.406  4.300000  49.6  0.930233  0.027544   \n",
       "3  0.880000  21.000000  0.98257  2.400  3.000000  49.6  0.930233  0.027544   \n",
       "4  0.866792  20.836364  1.00000  2.600  3.700000  49.4  0.930233  0.027368   \n",
       "\n",
       "        no2    c2h5ch     temp(K) pm25-clasificacion  disconformidad-19%  \\\n",
       "0  0.533981  0.990385  300.450000               Bajo                   0   \n",
       "1  0.553398  1.000000  300.450000               Bajo                   0   \n",
       "2  0.543689  1.000000  300.450000            Mediano                   0   \n",
       "3  0.533981  1.000000  300.792857               Bajo                   0   \n",
       "4  0.543689  1.000000  300.450000               Bajo                   0   \n",
       "\n",
       "   disconformidad-20%  disconformidad-21%  disconformidad-22%  \n",
       "0                   0                   1                   0  \n",
       "1                   0                   1                   0  \n",
       "2                   0                   1                   0  \n",
       "3                   0                   1                   0  \n",
       "4                   0                   0                   0  "
      ]
     },
     "execution_count": 123,
     "metadata": {},
     "output_type": "execute_result"
    }
   ],
   "source": [
    "df_can.rename(columns={'OdName':'Country', 'AreaName':'Continent','RegName':'Region'}, inplace=True)\n",
    "\n",
    "# mostrar los primeros cinco elementos para ver cómo se cambió el dataframe\n",
    "df_can.head()"
   ]
  },
  {
   "cell_type": "markdown",
   "metadata": {},
   "source": [
    "#### 3. Para mantener la coherencia, asegúrese de que todas las etiquetas de las columnas sean de tipo cadena de caracteres o string."
   ]
  },
  {
   "cell_type": "code",
   "execution_count": 124,
   "metadata": {},
   "outputs": [
    {
     "data": {
      "text/plain": [
       "True"
      ]
     },
     "execution_count": 124,
     "metadata": {},
     "output_type": "execute_result"
    }
   ],
   "source": [
    "# examinar los tipos de etiquetas de las columnas\n",
    "\n",
    "all(isinstance(column, str) for column in df_can.columns)"
   ]
  },
  {
   "cell_type": "markdown",
   "metadata": {},
   "source": [
    "#### Establecer el nombre del país como índice. Esto es útil para buscar rápidamente países utilizando el método .loc."
   ]
  },
  {
   "cell_type": "code",
   "execution_count": 127,
   "metadata": {},
   "outputs": [
    {
     "ename": "KeyError",
     "evalue": "\"None of ['Country'] are in the columns\"",
     "output_type": "error",
     "traceback": [
      "\u001b[1;31m---------------------------------------------------------------------------\u001b[0m",
      "\u001b[1;31mKeyError\u001b[0m                                  Traceback (most recent call last)",
      "\u001b[1;32mc:\\Users\\niko_\\Documents\\GitHub\\Visualizacion-Datos-TPCD\\main.ipynb Cell 17'\u001b[0m in \u001b[0;36m<cell line: 1>\u001b[1;34m()\u001b[0m\n\u001b[1;32m----> <a href='vscode-notebook-cell:/c%3A/Users/niko_/Documents/GitHub/Visualizacion-Datos-TPCD/main.ipynb#ch0000033?line=0'>1</a>\u001b[0m df_can\u001b[39m.\u001b[39;49mset_index(\u001b[39m'\u001b[39;49m\u001b[39mCountry\u001b[39;49m\u001b[39m'\u001b[39;49m, inplace\u001b[39m=\u001b[39;49m\u001b[39mTrue\u001b[39;49;00m)\n\u001b[0;32m      <a href='vscode-notebook-cell:/c%3A/Users/niko_/Documents/GitHub/Visualizacion-Datos-TPCD/main.ipynb#ch0000033?line=2'>3</a>\u001b[0m \u001b[39m# mostrar los primeros cinco elementos para ver cómo se cambió el dataframe\u001b[39;00m\n\u001b[0;32m      <a href='vscode-notebook-cell:/c%3A/Users/niko_/Documents/GitHub/Visualizacion-Datos-TPCD/main.ipynb#ch0000033?line=3'>4</a>\u001b[0m df_can\u001b[39m.\u001b[39mhead()\n",
      "File \u001b[1;32mc:\\Users\\niko_\\AppData\\Local\\Programs\\Python\\Python310\\lib\\site-packages\\pandas\\util\\_decorators.py:311\u001b[0m, in \u001b[0;36mdeprecate_nonkeyword_arguments.<locals>.decorate.<locals>.wrapper\u001b[1;34m(*args, **kwargs)\u001b[0m\n\u001b[0;32m    <a href='file:///c%3A/Users/niko_/AppData/Local/Programs/Python/Python310/lib/site-packages/pandas/util/_decorators.py?line=304'>305</a>\u001b[0m \u001b[39mif\u001b[39;00m \u001b[39mlen\u001b[39m(args) \u001b[39m>\u001b[39m num_allow_args:\n\u001b[0;32m    <a href='file:///c%3A/Users/niko_/AppData/Local/Programs/Python/Python310/lib/site-packages/pandas/util/_decorators.py?line=305'>306</a>\u001b[0m     warnings\u001b[39m.\u001b[39mwarn(\n\u001b[0;32m    <a href='file:///c%3A/Users/niko_/AppData/Local/Programs/Python/Python310/lib/site-packages/pandas/util/_decorators.py?line=306'>307</a>\u001b[0m         msg\u001b[39m.\u001b[39mformat(arguments\u001b[39m=\u001b[39marguments),\n\u001b[0;32m    <a href='file:///c%3A/Users/niko_/AppData/Local/Programs/Python/Python310/lib/site-packages/pandas/util/_decorators.py?line=307'>308</a>\u001b[0m         \u001b[39mFutureWarning\u001b[39;00m,\n\u001b[0;32m    <a href='file:///c%3A/Users/niko_/AppData/Local/Programs/Python/Python310/lib/site-packages/pandas/util/_decorators.py?line=308'>309</a>\u001b[0m         stacklevel\u001b[39m=\u001b[39mstacklevel,\n\u001b[0;32m    <a href='file:///c%3A/Users/niko_/AppData/Local/Programs/Python/Python310/lib/site-packages/pandas/util/_decorators.py?line=309'>310</a>\u001b[0m     )\n\u001b[1;32m--> <a href='file:///c%3A/Users/niko_/AppData/Local/Programs/Python/Python310/lib/site-packages/pandas/util/_decorators.py?line=310'>311</a>\u001b[0m \u001b[39mreturn\u001b[39;00m func(\u001b[39m*\u001b[39margs, \u001b[39m*\u001b[39m\u001b[39m*\u001b[39mkwargs)\n",
      "File \u001b[1;32mc:\\Users\\niko_\\AppData\\Local\\Programs\\Python\\Python310\\lib\\site-packages\\pandas\\core\\frame.py:5494\u001b[0m, in \u001b[0;36mDataFrame.set_index\u001b[1;34m(self, keys, drop, append, inplace, verify_integrity)\u001b[0m\n\u001b[0;32m   <a href='file:///c%3A/Users/niko_/AppData/Local/Programs/Python/Python310/lib/site-packages/pandas/core/frame.py?line=5490'>5491</a>\u001b[0m                 missing\u001b[39m.\u001b[39mappend(col)\n\u001b[0;32m   <a href='file:///c%3A/Users/niko_/AppData/Local/Programs/Python/Python310/lib/site-packages/pandas/core/frame.py?line=5492'>5493</a>\u001b[0m \u001b[39mif\u001b[39;00m missing:\n\u001b[1;32m-> <a href='file:///c%3A/Users/niko_/AppData/Local/Programs/Python/Python310/lib/site-packages/pandas/core/frame.py?line=5493'>5494</a>\u001b[0m     \u001b[39mraise\u001b[39;00m \u001b[39mKeyError\u001b[39;00m(\u001b[39mf\u001b[39m\u001b[39m\"\u001b[39m\u001b[39mNone of \u001b[39m\u001b[39m{\u001b[39;00mmissing\u001b[39m}\u001b[39;00m\u001b[39m are in the columns\u001b[39m\u001b[39m\"\u001b[39m)\n\u001b[0;32m   <a href='file:///c%3A/Users/niko_/AppData/Local/Programs/Python/Python310/lib/site-packages/pandas/core/frame.py?line=5495'>5496</a>\u001b[0m \u001b[39mif\u001b[39;00m inplace:\n\u001b[0;32m   <a href='file:///c%3A/Users/niko_/AppData/Local/Programs/Python/Python310/lib/site-packages/pandas/core/frame.py?line=5496'>5497</a>\u001b[0m     frame \u001b[39m=\u001b[39m \u001b[39mself\u001b[39m\n",
      "\u001b[1;31mKeyError\u001b[0m: \"None of ['Country'] are in the columns\""
     ]
    }
   ],
   "source": [
    "df_can.set_index('Country', inplace=True)\n",
    "\n",
    "# mostrar los primeros cinco elementos para ver cómo se cambió el dataframe\n",
    "df_can.head()"
   ]
  },
  {
   "cell_type": "markdown",
   "metadata": {},
   "source": [
    "Importar la biblioteca `matplotlib`."
   ]
  },
  {
   "cell_type": "code",
   "execution_count": 125,
   "metadata": {},
   "outputs": [
    {
     "name": "stdout",
     "output_type": "stream",
     "text": [
      "Matplotlib version:  3.5.2\n"
     ]
    }
   ],
   "source": [
    "# se hará uso del despliegue de figuras en línea o dentro de Jupyter Notebook\n",
    "%matplotlib inline\n",
    "\n",
    "import matplotlib as mpl\n",
    "import matplotlib.pyplot as plt\n",
    "\n",
    "mpl.style.use('ggplot')  # opcional: para estilo similar a ggplot\n",
    "\n",
    "# verificar la versión de Matplotlib\n",
    "print('Matplotlib version: ', mpl.__version__)"
   ]
  },
  {
   "cell_type": "markdown",
   "metadata": {},
   "source": []
  },
  {
   "cell_type": "markdown",
   "metadata": {},
   "source": [
    "# Gráfico de Áreas<a id=\"6\"></a>"
   ]
  },
  {
   "cell_type": "code",
   "execution_count": 126,
   "metadata": {},
   "outputs": [
    {
     "ename": "KeyError",
     "evalue": "'Total'",
     "output_type": "error",
     "traceback": [
      "\u001b[1;31m---------------------------------------------------------------------------\u001b[0m",
      "\u001b[1;31mKeyError\u001b[0m                                  Traceback (most recent call last)",
      "\u001b[1;32mc:\\Users\\niko_\\Documents\\GitHub\\Visualizacion-Datos-TPCD\\main.ipynb Cell 20'\u001b[0m in \u001b[0;36m<cell line: 1>\u001b[1;34m()\u001b[0m\n\u001b[1;32m----> <a href='vscode-notebook-cell:/c%3A/Users/niko_/Documents/GitHub/Visualizacion-Datos-TPCD/main.ipynb#ch0000030?line=0'>1</a>\u001b[0m df_can\u001b[39m.\u001b[39;49msort_values([\u001b[39m'\u001b[39;49m\u001b[39mTotal\u001b[39;49m\u001b[39m'\u001b[39;49m], ascending\u001b[39m=\u001b[39;49m\u001b[39mFalse\u001b[39;49;00m, axis\u001b[39m=\u001b[39;49m\u001b[39m0\u001b[39;49m, inplace\u001b[39m=\u001b[39;49m\u001b[39mTrue\u001b[39;49;00m)\n\u001b[0;32m      <a href='vscode-notebook-cell:/c%3A/Users/niko_/Documents/GitHub/Visualizacion-Datos-TPCD/main.ipynb#ch0000030?line=2'>3</a>\u001b[0m \u001b[39m# obtener las 5 mejores entradas\u001b[39;00m\n\u001b[0;32m      <a href='vscode-notebook-cell:/c%3A/Users/niko_/Documents/GitHub/Visualizacion-Datos-TPCD/main.ipynb#ch0000030?line=3'>4</a>\u001b[0m df_top5 \u001b[39m=\u001b[39m df_can\u001b[39m.\u001b[39mhead()\n",
      "File \u001b[1;32mc:\\Users\\niko_\\AppData\\Local\\Programs\\Python\\Python310\\lib\\site-packages\\pandas\\util\\_decorators.py:311\u001b[0m, in \u001b[0;36mdeprecate_nonkeyword_arguments.<locals>.decorate.<locals>.wrapper\u001b[1;34m(*args, **kwargs)\u001b[0m\n\u001b[0;32m    <a href='file:///c%3A/Users/niko_/AppData/Local/Programs/Python/Python310/lib/site-packages/pandas/util/_decorators.py?line=304'>305</a>\u001b[0m \u001b[39mif\u001b[39;00m \u001b[39mlen\u001b[39m(args) \u001b[39m>\u001b[39m num_allow_args:\n\u001b[0;32m    <a href='file:///c%3A/Users/niko_/AppData/Local/Programs/Python/Python310/lib/site-packages/pandas/util/_decorators.py?line=305'>306</a>\u001b[0m     warnings\u001b[39m.\u001b[39mwarn(\n\u001b[0;32m    <a href='file:///c%3A/Users/niko_/AppData/Local/Programs/Python/Python310/lib/site-packages/pandas/util/_decorators.py?line=306'>307</a>\u001b[0m         msg\u001b[39m.\u001b[39mformat(arguments\u001b[39m=\u001b[39marguments),\n\u001b[0;32m    <a href='file:///c%3A/Users/niko_/AppData/Local/Programs/Python/Python310/lib/site-packages/pandas/util/_decorators.py?line=307'>308</a>\u001b[0m         \u001b[39mFutureWarning\u001b[39;00m,\n\u001b[0;32m    <a href='file:///c%3A/Users/niko_/AppData/Local/Programs/Python/Python310/lib/site-packages/pandas/util/_decorators.py?line=308'>309</a>\u001b[0m         stacklevel\u001b[39m=\u001b[39mstacklevel,\n\u001b[0;32m    <a href='file:///c%3A/Users/niko_/AppData/Local/Programs/Python/Python310/lib/site-packages/pandas/util/_decorators.py?line=309'>310</a>\u001b[0m     )\n\u001b[1;32m--> <a href='file:///c%3A/Users/niko_/AppData/Local/Programs/Python/Python310/lib/site-packages/pandas/util/_decorators.py?line=310'>311</a>\u001b[0m \u001b[39mreturn\u001b[39;00m func(\u001b[39m*\u001b[39margs, \u001b[39m*\u001b[39m\u001b[39m*\u001b[39mkwargs)\n",
      "File \u001b[1;32mc:\\Users\\niko_\\AppData\\Local\\Programs\\Python\\Python310\\lib\\site-packages\\pandas\\core\\frame.py:6313\u001b[0m, in \u001b[0;36mDataFrame.sort_values\u001b[1;34m(self, by, axis, ascending, inplace, kind, na_position, ignore_index, key)\u001b[0m\n\u001b[0;32m   <a href='file:///c%3A/Users/niko_/AppData/Local/Programs/Python/Python310/lib/site-packages/pandas/core/frame.py?line=6308'>6309</a>\u001b[0m \u001b[39melif\u001b[39;00m \u001b[39mlen\u001b[39m(by):\n\u001b[0;32m   <a href='file:///c%3A/Users/niko_/AppData/Local/Programs/Python/Python310/lib/site-packages/pandas/core/frame.py?line=6309'>6310</a>\u001b[0m     \u001b[39m# len(by) == 1\u001b[39;00m\n\u001b[0;32m   <a href='file:///c%3A/Users/niko_/AppData/Local/Programs/Python/Python310/lib/site-packages/pandas/core/frame.py?line=6311'>6312</a>\u001b[0m     by \u001b[39m=\u001b[39m by[\u001b[39m0\u001b[39m]\n\u001b[1;32m-> <a href='file:///c%3A/Users/niko_/AppData/Local/Programs/Python/Python310/lib/site-packages/pandas/core/frame.py?line=6312'>6313</a>\u001b[0m     k \u001b[39m=\u001b[39m \u001b[39mself\u001b[39;49m\u001b[39m.\u001b[39;49m_get_label_or_level_values(by, axis\u001b[39m=\u001b[39;49maxis)\n\u001b[0;32m   <a href='file:///c%3A/Users/niko_/AppData/Local/Programs/Python/Python310/lib/site-packages/pandas/core/frame.py?line=6314'>6315</a>\u001b[0m     \u001b[39m# need to rewrap column in Series to apply key function\u001b[39;00m\n\u001b[0;32m   <a href='file:///c%3A/Users/niko_/AppData/Local/Programs/Python/Python310/lib/site-packages/pandas/core/frame.py?line=6315'>6316</a>\u001b[0m     \u001b[39mif\u001b[39;00m key \u001b[39mis\u001b[39;00m \u001b[39mnot\u001b[39;00m \u001b[39mNone\u001b[39;00m:\n\u001b[0;32m   <a href='file:///c%3A/Users/niko_/AppData/Local/Programs/Python/Python310/lib/site-packages/pandas/core/frame.py?line=6316'>6317</a>\u001b[0m         \u001b[39m# error: Incompatible types in assignment (expression has type\u001b[39;00m\n\u001b[0;32m   <a href='file:///c%3A/Users/niko_/AppData/Local/Programs/Python/Python310/lib/site-packages/pandas/core/frame.py?line=6317'>6318</a>\u001b[0m         \u001b[39m# \"Series\", variable has type \"ndarray\")\u001b[39;00m\n",
      "File \u001b[1;32mc:\\Users\\niko_\\AppData\\Local\\Programs\\Python\\Python310\\lib\\site-packages\\pandas\\core\\generic.py:1840\u001b[0m, in \u001b[0;36mNDFrame._get_label_or_level_values\u001b[1;34m(self, key, axis)\u001b[0m\n\u001b[0;32m   <a href='file:///c%3A/Users/niko_/AppData/Local/Programs/Python/Python310/lib/site-packages/pandas/core/generic.py?line=1837'>1838</a>\u001b[0m     values \u001b[39m=\u001b[39m \u001b[39mself\u001b[39m\u001b[39m.\u001b[39maxes[axis]\u001b[39m.\u001b[39mget_level_values(key)\u001b[39m.\u001b[39m_values\n\u001b[0;32m   <a href='file:///c%3A/Users/niko_/AppData/Local/Programs/Python/Python310/lib/site-packages/pandas/core/generic.py?line=1838'>1839</a>\u001b[0m \u001b[39melse\u001b[39;00m:\n\u001b[1;32m-> <a href='file:///c%3A/Users/niko_/AppData/Local/Programs/Python/Python310/lib/site-packages/pandas/core/generic.py?line=1839'>1840</a>\u001b[0m     \u001b[39mraise\u001b[39;00m \u001b[39mKeyError\u001b[39;00m(key)\n\u001b[0;32m   <a href='file:///c%3A/Users/niko_/AppData/Local/Programs/Python/Python310/lib/site-packages/pandas/core/generic.py?line=1841'>1842</a>\u001b[0m \u001b[39m# Check for duplicates\u001b[39;00m\n\u001b[0;32m   <a href='file:///c%3A/Users/niko_/AppData/Local/Programs/Python/Python310/lib/site-packages/pandas/core/generic.py?line=1842'>1843</a>\u001b[0m \u001b[39mif\u001b[39;00m values\u001b[39m.\u001b[39mndim \u001b[39m>\u001b[39m \u001b[39m1\u001b[39m:\n",
      "\u001b[1;31mKeyError\u001b[0m: 'Total'"
     ]
    }
   ],
   "source": [
    "df_can.sort_values(['Total'], ascending=False, axis=0, inplace=True)\n",
    "\n",
    "# obtener las 5 mejores entradas\n",
    "df_top5 = df_can.head()\n",
    "\n",
    "# transponer el dataframe\n",
    "df_top5 = df_top5[pmv].transpose()\n",
    "\n",
    "df_top5.head()"
   ]
  },
  {
   "cell_type": "markdown",
   "metadata": {},
   "source": []
  }
 ],
 "metadata": {
  "interpreter": {
   "hash": "3800cc3e84d75565c35a70d049b50130c40c89fb2290199c0422067e13f562cc"
  },
  "kernelspec": {
   "display_name": "Python 3.10.4 64-bit",
   "language": "python",
   "name": "python3"
  },
  "language_info": {
   "codemirror_mode": {
    "name": "ipython",
    "version": 3
   },
   "file_extension": ".py",
   "mimetype": "text/x-python",
   "name": "python",
   "nbconvert_exporter": "python",
   "pygments_lexer": "ipython3",
   "version": "3.10.4"
  },
  "orig_nbformat": 4
 },
 "nbformat": 4,
 "nbformat_minor": 2
}
