{
 "cells": [
  {
   "cell_type": "markdown",
   "metadata": {},
   "source": [
    "# Proceso de Visualización de Datos"
   ]
  },
  {
   "cell_type": "markdown",
   "metadata": {},
   "source": [
    "En este notebook se tomará el set de datos obtenido tras el proceso de **`Data Wrangling`** y con el se mostrarán ejemplos de **`Visualización de Datos`** con librerías de Python."
   ]
  },
  {
   "cell_type": "markdown",
   "metadata": {},
   "source": [
    "## Preparación y Herramientas necesarias\n",
    "Lo primero que hay que realizar es la instalación de **openpyxl** (antiguamente conocido como **xlrd**) que es un módulo que **pandas** requiere para leer archivos Excel."
   ]
  },
  {
   "cell_type": "code",
   "execution_count": 15,
   "metadata": {},
   "outputs": [
    {
     "name": "stdout",
     "output_type": "stream",
     "text": [
      "Requirement already satisfied: openpyxl in c:\\users\\cerveza\\programasc\\anaconda3\\lib\\site-packages (3.0.9)\n",
      "Requirement already satisfied: et-xmlfile in c:\\users\\cerveza\\programasc\\anaconda3\\lib\\site-packages (from openpyxl) (1.1.0)\n",
      "Note: you may need to restart the kernel to use updated packages.\n"
     ]
    }
   ],
   "source": [
    "%pip install openpyxl"
   ]
  },
  {
   "cell_type": "markdown",
   "metadata": {},
   "source": [
    "A continuación, se procederá a cargar los dos módulos claves para hacer análisis de datos **pandas** y\n",
    " **numpy**.\n"
   ]
  },
  {
   "cell_type": "code",
   "execution_count": 16,
   "metadata": {},
   "outputs": [],
   "source": [
    "import numpy as np  # util para computación científica en Python\n",
    "import pandas as pd # biblioteca que contienen la estructura de datos de uso principal"
   ]
  },
  {
   "cell_type": "markdown",
   "metadata": {},
   "source": [
    "Ahora, se carga el conjunto de datos con los datos del excel usando el método de **pandas** `read_csv`."
   ]
  },
  {
   "cell_type": "code",
   "execution_count": 17,
   "metadata": {},
   "outputs": [
    {
     "name": "stdout",
     "output_type": "stream",
     "text": [
      "Datos leídos y cargados en un dataframe de pandas!\n"
     ]
    }
   ],
   "source": [
    "path = \"Datos_procesados.csv\"\n",
    "df_can = pd.read_csv(path, header = 0)\n",
    "\n",
    "# df_can = pd.read_excel(\n",
    "#     'Datos_procesados.csv',\n",
    "#     sheet_name='datos',\n",
    "#     skiprows=range(20),\n",
    "#     skipfooter=2)\n",
    "\n",
    "print('Datos leídos y cargados en un dataframe de pandas!')"
   ]
  },
  {
   "cell_type": "markdown",
   "metadata": {},
   "source": [
    "Mostramos las primeras 5 filas del conjunto de datos usando la función `head()` para ver que todo está bien."
   ]
  },
  {
   "cell_type": "code",
   "execution_count": 18,
   "metadata": {},
   "outputs": [
    {
     "data": {
      "text/html": [
       "<div>\n",
       "<style scoped>\n",
       "    .dataframe tbody tr th:only-of-type {\n",
       "        vertical-align: middle;\n",
       "    }\n",
       "\n",
       "    .dataframe tbody tr th {\n",
       "        vertical-align: top;\n",
       "    }\n",
       "\n",
       "    .dataframe thead th {\n",
       "        text-align: right;\n",
       "    }\n",
       "</style>\n",
       "<table border=\"1\" class=\"dataframe\">\n",
       "  <thead>\n",
       "    <tr style=\"text-align: right;\">\n",
       "      <th></th>\n",
       "      <th>Unnamed: 0</th>\n",
       "      <th>id</th>\n",
       "      <th>timestamp</th>\n",
       "      <th>pmv</th>\n",
       "      <th>ppd</th>\n",
       "      <th>co2</th>\n",
       "      <th>pm25</th>\n",
       "      <th>pm10</th>\n",
       "      <th>temp</th>\n",
       "      <th>hr</th>\n",
       "      <th>...</th>\n",
       "      <th>temp(K)</th>\n",
       "      <th>pm25-clasificacion</th>\n",
       "      <th>disconformidad-19%</th>\n",
       "      <th>disconformidad-20%</th>\n",
       "      <th>disconformidad-21%</th>\n",
       "      <th>disconformidad-22%</th>\n",
       "      <th>disconformidad-19%.1</th>\n",
       "      <th>disconformidad-20%.1</th>\n",
       "      <th>disconformidad-21%.1</th>\n",
       "      <th>disconformidad-22%.1</th>\n",
       "    </tr>\n",
       "  </thead>\n",
       "  <tbody>\n",
       "    <tr>\n",
       "      <th>0</th>\n",
       "      <td>0</td>\n",
       "      <td>3909814</td>\n",
       "      <td>2022-04-28 15:40:00</td>\n",
       "      <td>0.88</td>\n",
       "      <td>21.0</td>\n",
       "      <td>1.0</td>\n",
       "      <td>0.0</td>\n",
       "      <td>-1.0</td>\n",
       "      <td>27.3</td>\n",
       "      <td>50.0</td>\n",
       "      <td>...</td>\n",
       "      <td>300.45</td>\n",
       "      <td>Bajo</td>\n",
       "      <td>0</td>\n",
       "      <td>0</td>\n",
       "      <td>1</td>\n",
       "      <td>0</td>\n",
       "      <td>0</td>\n",
       "      <td>0</td>\n",
       "      <td>1</td>\n",
       "      <td>0</td>\n",
       "    </tr>\n",
       "    <tr>\n",
       "      <th>1</th>\n",
       "      <td>1</td>\n",
       "      <td>3909794</td>\n",
       "      <td>2022-04-28 15:38:00</td>\n",
       "      <td>0.88</td>\n",
       "      <td>21.0</td>\n",
       "      <td>1.0</td>\n",
       "      <td>0.0</td>\n",
       "      <td>NaN</td>\n",
       "      <td>27.3</td>\n",
       "      <td>49.0</td>\n",
       "      <td>...</td>\n",
       "      <td>300.45</td>\n",
       "      <td>Bajo</td>\n",
       "      <td>0</td>\n",
       "      <td>0</td>\n",
       "      <td>1</td>\n",
       "      <td>0</td>\n",
       "      <td>0</td>\n",
       "      <td>0</td>\n",
       "      <td>1</td>\n",
       "      <td>0</td>\n",
       "    </tr>\n",
       "    <tr>\n",
       "      <th>2</th>\n",
       "      <td>2</td>\n",
       "      <td>3909774</td>\n",
       "      <td>2022-04-28 15:37:00</td>\n",
       "      <td>0.88</td>\n",
       "      <td>21.0</td>\n",
       "      <td>1.0</td>\n",
       "      <td>NaN</td>\n",
       "      <td>4.3</td>\n",
       "      <td>27.3</td>\n",
       "      <td>49.6</td>\n",
       "      <td>...</td>\n",
       "      <td>300.45</td>\n",
       "      <td>NaN</td>\n",
       "      <td>0</td>\n",
       "      <td>0</td>\n",
       "      <td>1</td>\n",
       "      <td>0</td>\n",
       "      <td>0</td>\n",
       "      <td>0</td>\n",
       "      <td>1</td>\n",
       "      <td>0</td>\n",
       "    </tr>\n",
       "    <tr>\n",
       "      <th>3</th>\n",
       "      <td>3</td>\n",
       "      <td>3909754</td>\n",
       "      <td>2022-04-28 15:36:00</td>\n",
       "      <td>0.88</td>\n",
       "      <td>21.0</td>\n",
       "      <td>NaN</td>\n",
       "      <td>2.4</td>\n",
       "      <td>3.0</td>\n",
       "      <td>NaN</td>\n",
       "      <td>49.6</td>\n",
       "      <td>...</td>\n",
       "      <td>NaN</td>\n",
       "      <td>Bajo</td>\n",
       "      <td>0</td>\n",
       "      <td>0</td>\n",
       "      <td>1</td>\n",
       "      <td>0</td>\n",
       "      <td>0</td>\n",
       "      <td>0</td>\n",
       "      <td>1</td>\n",
       "      <td>0</td>\n",
       "    </tr>\n",
       "    <tr>\n",
       "      <th>4</th>\n",
       "      <td>4</td>\n",
       "      <td>3909734</td>\n",
       "      <td>2022-04-28 15:35:00</td>\n",
       "      <td>NaN</td>\n",
       "      <td>NaN</td>\n",
       "      <td>1.0</td>\n",
       "      <td>2.6</td>\n",
       "      <td>3.7</td>\n",
       "      <td>27.3</td>\n",
       "      <td>49.4</td>\n",
       "      <td>...</td>\n",
       "      <td>300.45</td>\n",
       "      <td>Bajo</td>\n",
       "      <td>0</td>\n",
       "      <td>0</td>\n",
       "      <td>0</td>\n",
       "      <td>0</td>\n",
       "      <td>0</td>\n",
       "      <td>0</td>\n",
       "      <td>0</td>\n",
       "      <td>0</td>\n",
       "    </tr>\n",
       "  </tbody>\n",
       "</table>\n",
       "<p>5 rows × 25 columns</p>\n",
       "</div>"
      ],
      "text/plain": [
       "   Unnamed: 0       id            timestamp   pmv   ppd  co2  pm25  pm10  \\\n",
       "0           0  3909814  2022-04-28 15:40:00  0.88  21.0  1.0   0.0  -1.0   \n",
       "1           1  3909794  2022-04-28 15:38:00  0.88  21.0  1.0   0.0   NaN   \n",
       "2           2  3909774  2022-04-28 15:37:00  0.88  21.0  1.0   NaN   4.3   \n",
       "3           3  3909754  2022-04-28 15:36:00  0.88  21.0  NaN   2.4   3.0   \n",
       "4           4  3909734  2022-04-28 15:35:00   NaN   NaN  1.0   2.6   3.7   \n",
       "\n",
       "   temp    hr  ...  temp(K)  pm25-clasificacion  disconformidad-19%  \\\n",
       "0  27.3  50.0  ...   300.45                Bajo                   0   \n",
       "1  27.3  49.0  ...   300.45                Bajo                   0   \n",
       "2  27.3  49.6  ...   300.45                 NaN                   0   \n",
       "3   NaN  49.6  ...      NaN                Bajo                   0   \n",
       "4  27.3  49.4  ...   300.45                Bajo                   0   \n",
       "\n",
       "   disconformidad-20% disconformidad-21%  disconformidad-22%  \\\n",
       "0                   0                  1                   0   \n",
       "1                   0                  1                   0   \n",
       "2                   0                  1                   0   \n",
       "3                   0                  1                   0   \n",
       "4                   0                  0                   0   \n",
       "\n",
       "  disconformidad-19%.1  disconformidad-20%.1  disconformidad-21%.1  \\\n",
       "0                    0                     0                     1   \n",
       "1                    0                     0                     1   \n",
       "2                    0                     0                     1   \n",
       "3                    0                     0                     1   \n",
       "4                    0                     0                     0   \n",
       "\n",
       "   disconformidad-22%.1  \n",
       "0                     0  \n",
       "1                     0  \n",
       "2                     0  \n",
       "3                     0  \n",
       "4                     0  \n",
       "\n",
       "[5 rows x 25 columns]"
      ]
     },
     "execution_count": 18,
     "metadata": {},
     "output_type": "execute_result"
    }
   ],
   "source": [
    "df_can.head()"
   ]
  },
  {
   "cell_type": "markdown",
   "metadata": {},
   "source": [
    "Revisamos la dimesión del conjunto de datos usando la función `shape` para ver que se cargaron todos los datos."
   ]
  },
  {
   "cell_type": "code",
   "execution_count": 19,
   "metadata": {},
   "outputs": [
    {
     "data": {
      "text/plain": [
       "(60, 25)"
      ]
     },
     "execution_count": 19,
     "metadata": {},
     "output_type": "execute_result"
    }
   ],
   "source": [
    "# dimensión del dataframe (rows, columns)\n",
    "df_can.shape"
   ]
  },
  {
   "cell_type": "markdown",
   "metadata": {},
   "source": [
    "#### 1. Quitar columnas innecesarias\n",
    "Se debe limpiar el conjunto de datos para eliminar las columnas que no son informativas para la visualización; en este caso quitaremos las columnas id, timestamp, idnodo, 20.836363636363636, Unnamed: 0."
   ]
  },
  {
   "cell_type": "code",
   "execution_count": 20,
   "metadata": {},
   "outputs": [
    {
     "data": {
      "text/html": [
       "<div>\n",
       "<style scoped>\n",
       "    .dataframe tbody tr th:only-of-type {\n",
       "        vertical-align: middle;\n",
       "    }\n",
       "\n",
       "    .dataframe tbody tr th {\n",
       "        vertical-align: top;\n",
       "    }\n",
       "\n",
       "    .dataframe thead th {\n",
       "        text-align: right;\n",
       "    }\n",
       "</style>\n",
       "<table border=\"1\" class=\"dataframe\">\n",
       "  <thead>\n",
       "    <tr style=\"text-align: right;\">\n",
       "      <th></th>\n",
       "      <th>pmv</th>\n",
       "      <th>ppd</th>\n",
       "      <th>co2</th>\n",
       "      <th>pm25</th>\n",
       "      <th>pm10</th>\n",
       "      <th>temp</th>\n",
       "      <th>hr</th>\n",
       "      <th>voc</th>\n",
       "      <th>co</th>\n",
       "      <th>no2</th>\n",
       "      <th>c2h5ch</th>\n",
       "      <th>pm25-clasificacion</th>\n",
       "      <th>disconformidad-19%</th>\n",
       "      <th>disconformidad-20%</th>\n",
       "      <th>disconformidad-21%</th>\n",
       "      <th>disconformidad-22%</th>\n",
       "      <th>disconformidad-19%.1</th>\n",
       "      <th>disconformidad-20%.1</th>\n",
       "      <th>disconformidad-21%.1</th>\n",
       "      <th>disconformidad-22%.1</th>\n",
       "    </tr>\n",
       "  </thead>\n",
       "  <tbody>\n",
       "    <tr>\n",
       "      <th>0</th>\n",
       "      <td>0.88</td>\n",
       "      <td>21.0</td>\n",
       "      <td>1.0</td>\n",
       "      <td>0.0</td>\n",
       "      <td>-1.0</td>\n",
       "      <td>27.3</td>\n",
       "      <td>50.0</td>\n",
       "      <td>0.906977</td>\n",
       "      <td>0.027368</td>\n",
       "      <td>0.533981</td>\n",
       "      <td>0.990385</td>\n",
       "      <td>Bajo</td>\n",
       "      <td>0</td>\n",
       "      <td>0</td>\n",
       "      <td>1</td>\n",
       "      <td>0</td>\n",
       "      <td>0</td>\n",
       "      <td>0</td>\n",
       "      <td>1</td>\n",
       "      <td>0</td>\n",
       "    </tr>\n",
       "    <tr>\n",
       "      <th>1</th>\n",
       "      <td>0.88</td>\n",
       "      <td>21.0</td>\n",
       "      <td>1.0</td>\n",
       "      <td>0.0</td>\n",
       "      <td>NaN</td>\n",
       "      <td>27.3</td>\n",
       "      <td>49.0</td>\n",
       "      <td>0.930233</td>\n",
       "      <td>0.028421</td>\n",
       "      <td>0.553398</td>\n",
       "      <td>1.000000</td>\n",
       "      <td>Bajo</td>\n",
       "      <td>0</td>\n",
       "      <td>0</td>\n",
       "      <td>1</td>\n",
       "      <td>0</td>\n",
       "      <td>0</td>\n",
       "      <td>0</td>\n",
       "      <td>1</td>\n",
       "      <td>0</td>\n",
       "    </tr>\n",
       "    <tr>\n",
       "      <th>2</th>\n",
       "      <td>0.88</td>\n",
       "      <td>21.0</td>\n",
       "      <td>1.0</td>\n",
       "      <td>NaN</td>\n",
       "      <td>4.3</td>\n",
       "      <td>27.3</td>\n",
       "      <td>49.6</td>\n",
       "      <td>0.930233</td>\n",
       "      <td>0.027544</td>\n",
       "      <td>0.543689</td>\n",
       "      <td>1.000000</td>\n",
       "      <td>NaN</td>\n",
       "      <td>0</td>\n",
       "      <td>0</td>\n",
       "      <td>1</td>\n",
       "      <td>0</td>\n",
       "      <td>0</td>\n",
       "      <td>0</td>\n",
       "      <td>1</td>\n",
       "      <td>0</td>\n",
       "    </tr>\n",
       "    <tr>\n",
       "      <th>3</th>\n",
       "      <td>0.88</td>\n",
       "      <td>21.0</td>\n",
       "      <td>NaN</td>\n",
       "      <td>2.4</td>\n",
       "      <td>3.0</td>\n",
       "      <td>NaN</td>\n",
       "      <td>49.6</td>\n",
       "      <td>0.930233</td>\n",
       "      <td>0.027544</td>\n",
       "      <td>0.533981</td>\n",
       "      <td>1.000000</td>\n",
       "      <td>Bajo</td>\n",
       "      <td>0</td>\n",
       "      <td>0</td>\n",
       "      <td>1</td>\n",
       "      <td>0</td>\n",
       "      <td>0</td>\n",
       "      <td>0</td>\n",
       "      <td>1</td>\n",
       "      <td>0</td>\n",
       "    </tr>\n",
       "    <tr>\n",
       "      <th>4</th>\n",
       "      <td>NaN</td>\n",
       "      <td>NaN</td>\n",
       "      <td>1.0</td>\n",
       "      <td>2.6</td>\n",
       "      <td>3.7</td>\n",
       "      <td>27.3</td>\n",
       "      <td>49.4</td>\n",
       "      <td>0.930233</td>\n",
       "      <td>0.027368</td>\n",
       "      <td>0.543689</td>\n",
       "      <td>1.000000</td>\n",
       "      <td>Bajo</td>\n",
       "      <td>0</td>\n",
       "      <td>0</td>\n",
       "      <td>0</td>\n",
       "      <td>0</td>\n",
       "      <td>0</td>\n",
       "      <td>0</td>\n",
       "      <td>0</td>\n",
       "      <td>0</td>\n",
       "    </tr>\n",
       "  </tbody>\n",
       "</table>\n",
       "</div>"
      ],
      "text/plain": [
       "    pmv   ppd  co2  pm25  pm10  temp    hr       voc        co       no2  \\\n",
       "0  0.88  21.0  1.0   0.0  -1.0  27.3  50.0  0.906977  0.027368  0.533981   \n",
       "1  0.88  21.0  1.0   0.0   NaN  27.3  49.0  0.930233  0.028421  0.553398   \n",
       "2  0.88  21.0  1.0   NaN   4.3  27.3  49.6  0.930233  0.027544  0.543689   \n",
       "3  0.88  21.0  NaN   2.4   3.0   NaN  49.6  0.930233  0.027544  0.533981   \n",
       "4   NaN   NaN  1.0   2.6   3.7  27.3  49.4  0.930233  0.027368  0.543689   \n",
       "\n",
       "     c2h5ch pm25-clasificacion  disconformidad-19%  disconformidad-20%  \\\n",
       "0  0.990385               Bajo                   0                   0   \n",
       "1  1.000000               Bajo                   0                   0   \n",
       "2  1.000000                NaN                   0                   0   \n",
       "3  1.000000               Bajo                   0                   0   \n",
       "4  1.000000               Bajo                   0                   0   \n",
       "\n",
       "   disconformidad-21%  disconformidad-22%  disconformidad-19%.1  \\\n",
       "0                   1                   0                     0   \n",
       "1                   1                   0                     0   \n",
       "2                   1                   0                     0   \n",
       "3                   1                   0                     0   \n",
       "4                   0                   0                     0   \n",
       "\n",
       "   disconformidad-20%.1  disconformidad-21%.1  disconformidad-22%.1  \n",
       "0                     0                     1                     0  \n",
       "1                     0                     1                     0  \n",
       "2                     0                     1                     0  \n",
       "3                     0                     1                     0  \n",
       "4                     0                     0                     0  "
      ]
     },
     "execution_count": 20,
     "metadata": {},
     "output_type": "execute_result"
    }
   ],
   "source": [
    "df_can.drop(['id', 'timestamp', 'idnodo', 'Unnamed: 0','temp(K)'], axis=1, inplace=True)\n",
    "\n",
    "# mostrar los primeros cinco elementos para ver cómo se cambió el dataframe\n",
    "df_can.head()"
   ]
  },
  {
   "cell_type": "markdown",
   "metadata": {},
   "source": [
    "#### 2. Renombrar Columnas\n",
    "A continuación debemos cambiar el nombre de algunas de las columnas para que tengan más sentido y facilitar el análisis."
   ]
  },
  {
   "cell_type": "code",
   "execution_count": 21,
   "metadata": {},
   "outputs": [
    {
     "data": {
      "text/html": [
       "<div>\n",
       "<style scoped>\n",
       "    .dataframe tbody tr th:only-of-type {\n",
       "        vertical-align: middle;\n",
       "    }\n",
       "\n",
       "    .dataframe tbody tr th {\n",
       "        vertical-align: top;\n",
       "    }\n",
       "\n",
       "    .dataframe thead th {\n",
       "        text-align: right;\n",
       "    }\n",
       "</style>\n",
       "<table border=\"1\" class=\"dataframe\">\n",
       "  <thead>\n",
       "    <tr style=\"text-align: right;\">\n",
       "      <th></th>\n",
       "      <th>pmv</th>\n",
       "      <th>ppd</th>\n",
       "      <th>co2</th>\n",
       "      <th>pm25</th>\n",
       "      <th>pm10</th>\n",
       "      <th>Temperatura</th>\n",
       "      <th>hr</th>\n",
       "      <th>voc</th>\n",
       "      <th>co</th>\n",
       "      <th>no2</th>\n",
       "      <th>c2h5ch</th>\n",
       "      <th>pm25-clasificacion</th>\n",
       "      <th>disconformidad-19%</th>\n",
       "      <th>disconformidad-20%</th>\n",
       "      <th>disconformidad-21%</th>\n",
       "      <th>disconformidad-22%</th>\n",
       "      <th>disconformidad-19%.1</th>\n",
       "      <th>disconformidad-20%.1</th>\n",
       "      <th>disconformidad-21%.1</th>\n",
       "      <th>disconformidad-22%.1</th>\n",
       "    </tr>\n",
       "  </thead>\n",
       "  <tbody>\n",
       "    <tr>\n",
       "      <th>0</th>\n",
       "      <td>0.88</td>\n",
       "      <td>21.0</td>\n",
       "      <td>1.0</td>\n",
       "      <td>0.0</td>\n",
       "      <td>-1.0</td>\n",
       "      <td>27.3</td>\n",
       "      <td>50.0</td>\n",
       "      <td>0.906977</td>\n",
       "      <td>0.027368</td>\n",
       "      <td>0.533981</td>\n",
       "      <td>0.990385</td>\n",
       "      <td>Bajo</td>\n",
       "      <td>0</td>\n",
       "      <td>0</td>\n",
       "      <td>1</td>\n",
       "      <td>0</td>\n",
       "      <td>0</td>\n",
       "      <td>0</td>\n",
       "      <td>1</td>\n",
       "      <td>0</td>\n",
       "    </tr>\n",
       "    <tr>\n",
       "      <th>1</th>\n",
       "      <td>0.88</td>\n",
       "      <td>21.0</td>\n",
       "      <td>1.0</td>\n",
       "      <td>0.0</td>\n",
       "      <td>NaN</td>\n",
       "      <td>27.3</td>\n",
       "      <td>49.0</td>\n",
       "      <td>0.930233</td>\n",
       "      <td>0.028421</td>\n",
       "      <td>0.553398</td>\n",
       "      <td>1.000000</td>\n",
       "      <td>Bajo</td>\n",
       "      <td>0</td>\n",
       "      <td>0</td>\n",
       "      <td>1</td>\n",
       "      <td>0</td>\n",
       "      <td>0</td>\n",
       "      <td>0</td>\n",
       "      <td>1</td>\n",
       "      <td>0</td>\n",
       "    </tr>\n",
       "    <tr>\n",
       "      <th>2</th>\n",
       "      <td>0.88</td>\n",
       "      <td>21.0</td>\n",
       "      <td>1.0</td>\n",
       "      <td>NaN</td>\n",
       "      <td>4.3</td>\n",
       "      <td>27.3</td>\n",
       "      <td>49.6</td>\n",
       "      <td>0.930233</td>\n",
       "      <td>0.027544</td>\n",
       "      <td>0.543689</td>\n",
       "      <td>1.000000</td>\n",
       "      <td>NaN</td>\n",
       "      <td>0</td>\n",
       "      <td>0</td>\n",
       "      <td>1</td>\n",
       "      <td>0</td>\n",
       "      <td>0</td>\n",
       "      <td>0</td>\n",
       "      <td>1</td>\n",
       "      <td>0</td>\n",
       "    </tr>\n",
       "    <tr>\n",
       "      <th>3</th>\n",
       "      <td>0.88</td>\n",
       "      <td>21.0</td>\n",
       "      <td>NaN</td>\n",
       "      <td>2.4</td>\n",
       "      <td>3.0</td>\n",
       "      <td>NaN</td>\n",
       "      <td>49.6</td>\n",
       "      <td>0.930233</td>\n",
       "      <td>0.027544</td>\n",
       "      <td>0.533981</td>\n",
       "      <td>1.000000</td>\n",
       "      <td>Bajo</td>\n",
       "      <td>0</td>\n",
       "      <td>0</td>\n",
       "      <td>1</td>\n",
       "      <td>0</td>\n",
       "      <td>0</td>\n",
       "      <td>0</td>\n",
       "      <td>1</td>\n",
       "      <td>0</td>\n",
       "    </tr>\n",
       "    <tr>\n",
       "      <th>4</th>\n",
       "      <td>NaN</td>\n",
       "      <td>NaN</td>\n",
       "      <td>1.0</td>\n",
       "      <td>2.6</td>\n",
       "      <td>3.7</td>\n",
       "      <td>27.3</td>\n",
       "      <td>49.4</td>\n",
       "      <td>0.930233</td>\n",
       "      <td>0.027368</td>\n",
       "      <td>0.543689</td>\n",
       "      <td>1.000000</td>\n",
       "      <td>Bajo</td>\n",
       "      <td>0</td>\n",
       "      <td>0</td>\n",
       "      <td>0</td>\n",
       "      <td>0</td>\n",
       "      <td>0</td>\n",
       "      <td>0</td>\n",
       "      <td>0</td>\n",
       "      <td>0</td>\n",
       "    </tr>\n",
       "  </tbody>\n",
       "</table>\n",
       "</div>"
      ],
      "text/plain": [
       "    pmv   ppd  co2  pm25  pm10  Temperatura    hr       voc        co  \\\n",
       "0  0.88  21.0  1.0   0.0  -1.0         27.3  50.0  0.906977  0.027368   \n",
       "1  0.88  21.0  1.0   0.0   NaN         27.3  49.0  0.930233  0.028421   \n",
       "2  0.88  21.0  1.0   NaN   4.3         27.3  49.6  0.930233  0.027544   \n",
       "3  0.88  21.0  NaN   2.4   3.0          NaN  49.6  0.930233  0.027544   \n",
       "4   NaN   NaN  1.0   2.6   3.7         27.3  49.4  0.930233  0.027368   \n",
       "\n",
       "        no2    c2h5ch pm25-clasificacion  disconformidad-19%  \\\n",
       "0  0.533981  0.990385               Bajo                   0   \n",
       "1  0.553398  1.000000               Bajo                   0   \n",
       "2  0.543689  1.000000                NaN                   0   \n",
       "3  0.533981  1.000000               Bajo                   0   \n",
       "4  0.543689  1.000000               Bajo                   0   \n",
       "\n",
       "   disconformidad-20%  disconformidad-21%  disconformidad-22%  \\\n",
       "0                   0                   1                   0   \n",
       "1                   0                   1                   0   \n",
       "2                   0                   1                   0   \n",
       "3                   0                   1                   0   \n",
       "4                   0                   0                   0   \n",
       "\n",
       "   disconformidad-19%.1  disconformidad-20%.1  disconformidad-21%.1  \\\n",
       "0                     0                     0                     1   \n",
       "1                     0                     0                     1   \n",
       "2                     0                     0                     1   \n",
       "3                     0                     0                     1   \n",
       "4                     0                     0                     0   \n",
       "\n",
       "   disconformidad-22%.1  \n",
       "0                     0  \n",
       "1                     0  \n",
       "2                     0  \n",
       "3                     0  \n",
       "4                     0  "
      ]
     },
     "execution_count": 21,
     "metadata": {},
     "output_type": "execute_result"
    }
   ],
   "source": [
    "df_can.rename(columns={'OdName':'Country', 'AreaName':'Continent','RegName':'Region', 'temp':'Temperatura'}, inplace=True)\n",
    "\n",
    "# mostrar los primeros cinco elementos para ver cómo se cambió el dataframe\n",
    "df_can.head()"
   ]
  },
  {
   "cell_type": "markdown",
   "metadata": {},
   "source": [
    "#### 3. Etiquetas en mismo tipo\n",
    "Para mantener la coherencia, asegúrese de que todas las etiquetas de las columnas sean de tipo cadena de caracteres o string."
   ]
  },
  {
   "cell_type": "code",
   "execution_count": 22,
   "metadata": {},
   "outputs": [
    {
     "data": {
      "text/plain": [
       "True"
      ]
     },
     "execution_count": 22,
     "metadata": {},
     "output_type": "execute_result"
    }
   ],
   "source": [
    "# examinar los tipos de etiquetas de las columnas\n",
    "\n",
    "all(isinstance(column, str) for column in df_can.columns)"
   ]
  },
  {
   "cell_type": "markdown",
   "metadata": {},
   "source": [
    "## Visualizando Datos usando Matplotlib\n",
    "Una vez preparado nuestro set de datos podemos proceder a visualizar nuestros datos con la herramienta **Matplotlib**, a continuación revisaremos los distintos tipos de gráficos que podemos utilizar para vizualizar nuestros datos."
   ]
  },
  {
   "cell_type": "markdown",
   "metadata": {},
   "source": [
    "#### Importar Matplotlib\n",
    "Importar la biblioteca `matplotlib`."
   ]
  },
  {
   "cell_type": "code",
   "execution_count": 26,
   "metadata": {},
   "outputs": [
    {
     "name": "stdout",
     "output_type": "stream",
     "text": [
      "Matplotlib version:  3.4.3\n"
     ]
    }
   ],
   "source": [
    "# Esta línea de codigo espara realizar el despliegue de figuras en línea o dentro de Jupyter Notebook\n",
    "%matplotlib inline\n",
    "\n",
    "import matplotlib as mpl\n",
    "import matplotlib.pyplot as plt\n",
    "\n",
    "# Opcional: Aplica un estilo similar a ggplot\n",
    "mpl.style.use('ggplot')  \n",
    "\n",
    "# verificar la versión de Matplotlib\n",
    "print('Matplotlib version: ', mpl.__version__)"
   ]
  },
  {
   "cell_type": "markdown",
   "metadata": {},
   "source": [
    "### Gráficos de Línea\n",
    "**-** Un gráfico de líneas es un tipo de gráficos el cual despliega la información como una serie de puntos de datos conectados por un segmento de línea recta.\n",
    "\n",
    "Para nuestro set de datos podemos utilizar este tipo de gráfico para responder a la pregunta:\n",
    "**¿Cúal es la relación entre la Temperatura y la Humedad relativa registrada por los sensores?**"
   ]
  },
  {
   "cell_type": "markdown",
   "metadata": {},
   "source": [
    "Para responder a nuestra pregunta, primero debemos extraer los datos relacionados a la `Temperatura` registrada y la media de la `Humedad Relativa` registrada para cada temperatura."
   ]
  },
  {
   "cell_type": "code",
   "execution_count": 57,
   "metadata": {},
   "outputs": [
    {
     "data": {
      "text/plain": [
       "Temperatura\n",
       "27.1    50.657143\n",
       "27.2    50.717647\n",
       "27.3    50.021429\n",
       "49.7    43.000000\n",
       "Name: hr, dtype: float64"
      ]
     },
     "execution_count": 57,
     "metadata": {},
     "output_type": "execute_result"
    }
   ],
   "source": [
    "Temp = df_can.groupby(\"Temperatura\")[\"hr\"].mean()\n",
    "Temp.head()"
   ]
  },
  {
   "cell_type": "markdown",
   "metadata": {},
   "source": [
    "A continuación, se trazará un gráfico de líneas con los datos obtenidos en `Temp`."
   ]
  },
  {
   "cell_type": "code",
   "execution_count": 61,
   "metadata": {},
   "outputs": [
    {
     "data": {
      "image/png": "[encoded data removed]",
      "text/plain": [
       "<Figure size 432x288 with 1 Axes>"
      ]
     },
     "metadata": {},
     "output_type": "display_data"
    }
   ],
   "source": [
    "Temp.index = Temp.index.map(int) # cambia el valor índice de Haiti al tipo entero para su trazado\n",
    "Temp.plot(kind='line')\n",
    "\n",
    "plt.title('Temperatura vs Humedad Relativa')\n",
    "plt.ylabel('Humedad Relativa')\n",
    "\n",
    "plt.show()"
   ]
  },
  {
   "cell_type": "markdown",
   "metadata": {},
   "source": [
    "Con ayuda del gráfico obtenido podemos responder a la pregunta planteada. Vemos que la `Temperatura` tiene una relación inversamente proporcional a la `Humedad Relativa` del lugar."
   ]
  },
  {
   "cell_type": "markdown",
   "metadata": {},
   "source": [
    "### Gráfico de Áreas<a id=\"6\"></a>"
   ]
  },
  {
   "cell_type": "markdown",
   "metadata": {},
   "source": []
  }
 ],
 "metadata": {
  "interpreter": {
   "hash": "3800cc3e84d75565c35a70d049b50130c40c89fb2290199c0422067e13f562cc"
  },
  "kernelspec": {
   "display_name": "Python 3 (ipykernel)",
   "language": "python",
   "name": "python3"
  },
  "language_info": {
   "codemirror_mode": {
    "name": "ipython",
    "version": 3
   },
   "file_extension": ".py",
   "mimetype": "text/x-python",
   "name": "python",
   "nbconvert_exporter": "python",
   "pygments_lexer": "ipython3",
   "version": "3.9.7"
  }
 },
 "nbformat": 4,
 "nbformat_minor": 4
}
